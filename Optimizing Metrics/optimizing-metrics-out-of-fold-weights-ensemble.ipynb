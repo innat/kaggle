{
 "cells": [
  {
   "cell_type": "markdown",
   "metadata": {
    "papermill": {
     "duration": 0.011682,
     "end_time": "2022-07-02T07:25:16.245726",
     "exception": false,
     "start_time": "2022-07-02T07:25:16.234044",
     "status": "completed"
    },
    "tags": []
   },
   "source": [
    "**Update**\n",
    "\n",
    "We've included `Bayesian Optimization` from [this notebook](https://www.kaggle.com/steubk/simple-oof-ensembling-methods-for-classification). Thanks to [steubk](https://www.kaggle.com/steubk). Aim was to compare with `scipy.optimize` function. \n",
    "\n",
    "---\n",
    "\n",
    "In this notebook, we attempt to find the best weight vector for ensembling via trying to maximize **OOF CV** scores. The piece of code actually came from [this work](https://www.kaggle.com/tilii7/cross-validation-weighted-linear-blending-errors). \n",
    "\n",
    "\n",
    "**Disclaimer**\n",
    "\n",
    "All the input scripts are designed for demonstratio purpose and also the procedure tha we've presented here. Please, use it to your own risk. Also note, in order to use it, you Have-To-Have **N** times `oof.csv` and `test.csv` that trained one the **same validation fold**. Thanks.\n",
    "\n",
    "---\n",
    "\n",
    "Set Up:\n",
    "\n",
    "```\n",
    "Model: E6\n",
    "Seed : 42\n",
    "Exp  : 5 Fold Training, Total 4 experiment [same fold trainig]\n",
    "```"
   ]
  },
  {
   "cell_type": "code",
   "execution_count": 1,
   "metadata": {
    "execution": {
     "iopub.execute_input": "2022-07-02T07:25:16.280091Z",
     "iopub.status.busy": "2022-07-02T07:25:16.279424Z",
     "iopub.status.idle": "2022-07-02T07:25:17.545401Z",
     "shell.execute_reply": "2022-07-02T07:25:17.544831Z",
     "shell.execute_reply.started": "2022-07-02T07:24:51.771104Z"
    },
    "papermill": {
     "duration": 1.288801,
     "end_time": "2022-07-02T07:25:17.545531",
     "exception": false,
     "start_time": "2022-07-02T07:25:16.256730",
     "status": "completed"
    },
    "tags": []
   },
   "outputs": [],
   "source": [
    "import os\n",
    "\n",
    "import matplotlib.pyplot as plt\n",
    "import numpy as np\n",
    "import pandas as pd\n",
    "from bayes_opt import BayesianOptimization\n",
    "from scipy.optimize import minimize\n",
    "from sklearn.metrics import roc_auc_score\n",
    "\n",
    "dir = \"../input/e6-oof-prediction//\"\n",
    "np.random.seed(42)\n",
    "\n",
    "# exp 1 ___________\n",
    "oof_one = pd.read_csv(dir + \"oof_e6_exp1_seed_42.csv\")\n",
    "test_one = pd.read_csv(dir + \"s_e6_exp1_seed_42.csv\")\n",
    "oof_one = oof_one.sort_values(by=[\"image_name\"], ascending=True).reset_index(drop=True)\n",
    "test_one = test_one.sort_values(by=[\"image_name\"], ascending=True).reset_index(\n",
    "    drop=True\n",
    ")\n",
    "\n",
    "# exp 2 ___________\n",
    "oof_two = pd.read_csv(dir + \"oof_e6_exp2_seed_42.csv\")\n",
    "test_two = pd.read_csv(dir + \"s_e6_exp2_seed_42.csv\")\n",
    "oof_two = oof_two.sort_values(by=[\"image_name\"], ascending=True).reset_index(drop=True)\n",
    "test_two = test_two.sort_values(by=[\"image_name\"], ascending=True).reset_index(\n",
    "    drop=True\n",
    ")\n",
    "\n",
    "# exp 3 ___________\n",
    "oof_three = pd.read_csv(dir + \"oof_e6_exp3_seed_42.csv\")\n",
    "test_three = pd.read_csv(dir + \"s_e6_exp3_seed_42.csv\")\n",
    "oof_three = oof_three.sort_values(by=[\"image_name\"], ascending=True).reset_index(\n",
    "    drop=True\n",
    ")\n",
    "test_three = test_three.sort_values(by=[\"image_name\"], ascending=True).reset_index(\n",
    "    drop=True\n",
    ")\n",
    "\n",
    "# exp 4 ___________\n",
    "oof_four = pd.read_csv(dir + \"oof_e6_exp4_seed_42.csv\")\n",
    "test_four = pd.read_csv(dir + \"s_e6_exp4_seed_42.csv\")\n",
    "oof_four = oof_four.sort_values(by=[\"image_name\"], ascending=True).reset_index(\n",
    "    drop=True\n",
    ")\n",
    "test_four = test_four.sort_values(by=[\"image_name\"], ascending=True).reset_index(\n",
    "    drop=True\n",
    ")\n"
   ]
  },
  {
   "cell_type": "code",
   "execution_count": 2,
   "metadata": {
    "execution": {
     "iopub.execute_input": "2022-07-02T07:25:17.572710Z",
     "iopub.status.busy": "2022-07-02T07:25:17.570945Z",
     "iopub.status.idle": "2022-07-02T07:25:17.580218Z",
     "shell.execute_reply": "2022-07-02T07:25:17.580618Z",
     "shell.execute_reply.started": "2022-07-02T07:24:52.047762Z"
    },
    "papermill": {
     "duration": 0.024488,
     "end_time": "2022-07-02T07:25:17.580758",
     "exception": false,
     "start_time": "2022-07-02T07:25:17.556270",
     "status": "completed"
    },
    "tags": []
   },
   "outputs": [
    {
     "data": {
      "text/plain": [
       "4    6555\n",
       "2    6552\n",
       "0    6536\n",
       "1    6534\n",
       "3    6515\n",
       "Name: fold, dtype: int64"
      ]
     },
     "execution_count": 2,
     "metadata": {},
     "output_type": "execute_result"
    }
   ],
   "source": [
    "oof_one.fold.value_counts()"
   ]
  },
  {
   "cell_type": "code",
   "execution_count": 3,
   "metadata": {
    "execution": {
     "iopub.execute_input": "2022-07-02T07:25:17.605616Z",
     "iopub.status.busy": "2022-07-02T07:25:17.605047Z",
     "iopub.status.idle": "2022-07-02T07:25:17.617910Z",
     "shell.execute_reply": "2022-07-02T07:25:17.617390Z",
     "shell.execute_reply.started": "2022-07-02T07:24:52.059962Z"
    },
    "papermill": {
     "duration": 0.026094,
     "end_time": "2022-07-02T07:25:17.618039",
     "exception": false,
     "start_time": "2022-07-02T07:25:17.591945",
     "status": "completed"
    },
    "tags": []
   },
   "outputs": [
    {
     "data": {
      "text/html": [
       "<div>\n",
       "<style scoped>\n",
       "    .dataframe tbody tr th:only-of-type {\n",
       "        vertical-align: middle;\n",
       "    }\n",
       "\n",
       "    .dataframe tbody tr th {\n",
       "        vertical-align: top;\n",
       "    }\n",
       "\n",
       "    .dataframe thead th {\n",
       "        text-align: right;\n",
       "    }\n",
       "</style>\n",
       "<table border=\"1\" class=\"dataframe\">\n",
       "  <thead>\n",
       "    <tr style=\"text-align: right;\">\n",
       "      <th></th>\n",
       "      <th>image_name</th>\n",
       "      <th>target</th>\n",
       "      <th>pred</th>\n",
       "      <th>fold</th>\n",
       "    </tr>\n",
       "  </thead>\n",
       "  <tbody>\n",
       "    <tr>\n",
       "      <th>0</th>\n",
       "      <td>ISIC_0015719</td>\n",
       "      <td>0</td>\n",
       "      <td>0.021981</td>\n",
       "      <td>0</td>\n",
       "    </tr>\n",
       "    <tr>\n",
       "      <th>1</th>\n",
       "      <td>ISIC_0052212</td>\n",
       "      <td>0</td>\n",
       "      <td>0.020979</td>\n",
       "      <td>4</td>\n",
       "    </tr>\n",
       "    <tr>\n",
       "      <th>2</th>\n",
       "      <td>ISIC_0068279</td>\n",
       "      <td>0</td>\n",
       "      <td>0.030942</td>\n",
       "      <td>0</td>\n",
       "    </tr>\n",
       "    <tr>\n",
       "      <th>3</th>\n",
       "      <td>ISIC_0074268</td>\n",
       "      <td>0</td>\n",
       "      <td>0.021772</td>\n",
       "      <td>0</td>\n",
       "    </tr>\n",
       "    <tr>\n",
       "      <th>4</th>\n",
       "      <td>ISIC_0074311</td>\n",
       "      <td>0</td>\n",
       "      <td>0.020974</td>\n",
       "      <td>2</td>\n",
       "    </tr>\n",
       "  </tbody>\n",
       "</table>\n",
       "</div>"
      ],
      "text/plain": [
       "     image_name  target      pred  fold\n",
       "0  ISIC_0015719       0  0.021981     0\n",
       "1  ISIC_0052212       0  0.020979     4\n",
       "2  ISIC_0068279       0  0.030942     0\n",
       "3  ISIC_0074268       0  0.021772     0\n",
       "4  ISIC_0074311       0  0.020974     2"
      ]
     },
     "execution_count": 3,
     "metadata": {},
     "output_type": "execute_result"
    }
   ],
   "source": [
    "oof_one.head()"
   ]
  },
  {
   "cell_type": "code",
   "execution_count": 4,
   "metadata": {
    "execution": {
     "iopub.execute_input": "2022-07-02T07:25:17.649859Z",
     "iopub.status.busy": "2022-07-02T07:25:17.649055Z",
     "iopub.status.idle": "2022-07-02T07:25:17.653022Z",
     "shell.execute_reply": "2022-07-02T07:25:17.652515Z",
     "shell.execute_reply.started": "2022-07-02T07:24:52.077102Z"
    },
    "papermill": {
     "duration": 0.023841,
     "end_time": "2022-07-02T07:25:17.653134",
     "exception": false,
     "start_time": "2022-07-02T07:25:17.629293",
     "status": "completed"
    },
    "tags": []
   },
   "outputs": [
    {
     "data": {
      "text/html": [
       "<div>\n",
       "<style scoped>\n",
       "    .dataframe tbody tr th:only-of-type {\n",
       "        vertical-align: middle;\n",
       "    }\n",
       "\n",
       "    .dataframe tbody tr th {\n",
       "        vertical-align: top;\n",
       "    }\n",
       "\n",
       "    .dataframe thead th {\n",
       "        text-align: right;\n",
       "    }\n",
       "</style>\n",
       "<table border=\"1\" class=\"dataframe\">\n",
       "  <thead>\n",
       "    <tr style=\"text-align: right;\">\n",
       "      <th></th>\n",
       "      <th>image_name</th>\n",
       "      <th>target</th>\n",
       "    </tr>\n",
       "  </thead>\n",
       "  <tbody>\n",
       "    <tr>\n",
       "      <th>0</th>\n",
       "      <td>ISIC_0052060</td>\n",
       "      <td>0.023545</td>\n",
       "    </tr>\n",
       "    <tr>\n",
       "      <th>1</th>\n",
       "      <td>ISIC_0052349</td>\n",
       "      <td>0.021493</td>\n",
       "    </tr>\n",
       "    <tr>\n",
       "      <th>2</th>\n",
       "      <td>ISIC_0058510</td>\n",
       "      <td>0.021546</td>\n",
       "    </tr>\n",
       "    <tr>\n",
       "      <th>3</th>\n",
       "      <td>ISIC_0073313</td>\n",
       "      <td>0.020786</td>\n",
       "    </tr>\n",
       "    <tr>\n",
       "      <th>4</th>\n",
       "      <td>ISIC_0073502</td>\n",
       "      <td>0.023138</td>\n",
       "    </tr>\n",
       "  </tbody>\n",
       "</table>\n",
       "</div>"
      ],
      "text/plain": [
       "     image_name    target\n",
       "0  ISIC_0052060  0.023545\n",
       "1  ISIC_0052349  0.021493\n",
       "2  ISIC_0058510  0.021546\n",
       "3  ISIC_0073313  0.020786\n",
       "4  ISIC_0073502  0.023138"
      ]
     },
     "execution_count": 4,
     "metadata": {},
     "output_type": "execute_result"
    }
   ],
   "source": [
    "test_one.head()"
   ]
  },
  {
   "cell_type": "markdown",
   "metadata": {
    "papermill": {
     "duration": 0.011351,
     "end_time": "2022-07-02T07:25:17.676047",
     "exception": false,
     "start_time": "2022-07-02T07:25:17.664696",
     "status": "completed"
    },
    "tags": []
   },
   "source": [
    "# Scipy Optimizer\n",
    "\n",
    "Let's try first optmization function from `Scipy`, usng `L-BFGS-B` method. We've tried other methods, but this one gave best."
   ]
  },
  {
   "cell_type": "code",
   "execution_count": 5,
   "metadata": {
    "execution": {
     "iopub.execute_input": "2022-07-02T07:25:17.703594Z",
     "iopub.status.busy": "2022-07-02T07:25:17.703048Z",
     "iopub.status.idle": "2022-07-02T07:25:17.754437Z",
     "shell.execute_reply": "2022-07-02T07:25:17.753840Z",
     "shell.execute_reply.started": "2022-07-02T07:24:52.092892Z"
    },
    "papermill": {
     "duration": 0.06544,
     "end_time": "2022-07-02T07:25:17.754557",
     "exception": false,
     "start_time": "2022-07-02T07:25:17.689117",
     "status": "completed"
    },
    "tags": []
   },
   "outputs": [],
   "source": [
    "blend_train = []\n",
    "blend_test = []\n",
    "\n",
    "# out of fold prediction\n",
    "blend_train.append(oof_one.pred)\n",
    "blend_train.append(oof_two.pred)\n",
    "blend_train.append(oof_three.pred)\n",
    "blend_train.append(oof_four.pred)\n",
    "blend_train = np.array(blend_train)\n",
    "\n",
    "# submission scores\n",
    "blend_test.append(test_one.target)\n",
    "blend_test.append(test_two.target)\n",
    "blend_test.append(test_three.target)\n",
    "blend_test.append(test_four.target)\n",
    "blend_test = np.array(blend_test)"
   ]
  },
  {
   "cell_type": "code",
   "execution_count": 6,
   "metadata": {
    "execution": {
     "iopub.execute_input": "2022-07-02T07:25:17.783269Z",
     "iopub.status.busy": "2022-07-02T07:25:17.782552Z",
     "iopub.status.idle": "2022-07-02T07:25:17.785733Z",
     "shell.execute_reply": "2022-07-02T07:25:17.785172Z",
     "shell.execute_reply.started": "2022-07-02T07:24:52.148393Z"
    },
    "papermill": {
     "duration": 0.019634,
     "end_time": "2022-07-02T07:25:17.785874",
     "exception": false,
     "start_time": "2022-07-02T07:25:17.766240",
     "status": "completed"
    },
    "tags": []
   },
   "outputs": [
    {
     "name": "stdout",
     "output_type": "stream",
     "text": [
      "0.12\n"
     ]
    }
   ],
   "source": [
    "a = 0.12345\n",
    "print(\"{0:.2f}\".format(a))"
   ]
  },
  {
   "cell_type": "code",
   "execution_count": 7,
   "metadata": {
    "execution": {
     "iopub.execute_input": "2022-07-02T07:25:17.819187Z",
     "iopub.status.busy": "2022-07-02T07:25:17.818512Z",
     "iopub.status.idle": "2022-07-02T07:25:22.732943Z",
     "shell.execute_reply": "2022-07-02T07:25:22.732287Z",
     "shell.execute_reply.started": "2022-07-02T07:24:52.156115Z"
    },
    "papermill": {
     "duration": 4.935197,
     "end_time": "2022-07-02T07:25:22.733071",
     "exception": false,
     "start_time": "2022-07-02T07:25:17.797874",
     "status": "completed"
    },
    "tags": []
   },
   "outputs": [
    {
     "name": "stdout",
     "output_type": "stream",
     "text": [
      "\n",
      " Finding Blending Weights ...\n",
      "1\tScore: 0.9316476\tWeights: 0.3745401\t0.9507143\t0.7319939\t0.5986585\n",
      "2\tScore: 0.9219291\tWeights: 0.1560186\t0.1559945\t0.0580836\t0.8661761\n",
      "3\tScore: 0.9279316\tWeights: 0.6011150\t0.7080726\t0.0205845\t0.9699099\n",
      "4\tScore: 0.9281132\tWeights: 0.8324426\t0.2123391\t0.1818250\t0.1834045\n",
      "5\tScore: 0.9316281\tWeights: 0.3042422\t0.5247564\t0.4319450\t0.2912291\n",
      "6\tScore: 0.9295422\tWeights: 0.6118529\t0.1394939\t0.2921446\t0.3663618\n",
      "7\tScore: 0.9307547\tWeights: 0.4560700\t0.7851760\t0.1996738\t0.5142344\n",
      "8\tScore: 0.9274283\tWeights: 0.5924146\t0.0464504\t0.6075449\t0.1705241\n",
      "9\tScore: 0.9310607\tWeights: 0.0650516\t0.9488855\t0.9656320\t0.8083973\n",
      "10\tScore: 0.9293355\tWeights: 0.3046138\t0.0976721\t0.6842330\t0.4401525\n",
      "11\tScore: 0.9256867\tWeights: 0.1220382\t0.4951769\t0.0343885\t0.9093204\n",
      "12\tScore: 0.9312611\tWeights: 0.2587800\t0.6625223\t0.3117111\t0.5200680\n",
      "13\tScore: 0.9297988\tWeights: 0.5467103\t0.1848545\t0.9695846\t0.7751328\n",
      "14\tScore: 0.9312204\tWeights: 0.9394989\t0.8948274\t0.5979000\t0.9218742\n",
      "15\tScore: 0.9281338\tWeights: 0.0884925\t0.1959829\t0.0452273\t0.3253303\n",
      "16\tScore: 0.9301063\tWeights: 0.3886773\t0.2713490\t0.8287375\t0.3567533\n",
      "17\tScore: 0.9289468\tWeights: 0.2809345\t0.5426961\t0.1409242\t0.8021970\n",
      "18\tScore: 0.9292377\tWeights: 0.0745506\t0.9868869\t0.7722448\t0.1987157\n",
      "19\tScore: 0.9308873\tWeights: 0.0055221\t0.8154614\t0.7068573\t0.7290072\n",
      "20\tScore: 0.9268985\tWeights: 0.7712703\t0.0740447\t0.3584657\t0.1158691\n",
      "21\tScore: 0.9290852\tWeights: 0.8631034\t0.6232981\t0.3308980\t0.0635584\n",
      "22\tScore: 0.9308056\tWeights: 0.3109823\t0.3251833\t0.7296062\t0.6375575\n",
      "23\tScore: 0.9288144\tWeights: 0.8872127\t0.4722149\t0.1195942\t0.7132448\n",
      "24\tScore: 0.9312583\tWeights: 0.7607850\t0.5612772\t0.7709672\t0.4937956\n",
      "25\tScore: 0.9284115\tWeights: 0.5227328\t0.4275410\t0.0254191\t0.1078914\n",
      "26\tScore: 0.9306502\tWeights: 0.0314292\t0.6364104\t0.3143560\t0.5085707\n",
      "27\tScore: 0.9293715\tWeights: 0.9075665\t0.2492922\t0.4103829\t0.7555511\n",
      "28\tScore: 0.9300969\tWeights: 0.2287982\t0.0769799\t0.2897515\t0.1612213\n",
      "29\tScore: 0.9312661\tWeights: 0.9296977\t0.8081204\t0.6334038\t0.8714606\n",
      "30\tScore: 0.9297748\tWeights: 0.8036721\t0.1865701\t0.8925590\t0.5393422\n",
      "31\tScore: 0.9296127\tWeights: 0.8074402\t0.8960913\t0.3180035\t0.1100519\n",
      "32\tScore: 0.9306362\tWeights: 0.2279352\t0.4271078\t0.8180148\t0.8607306\n",
      "33\tScore: 0.9303321\tWeights: 0.0069521\t0.5107473\t0.4174110\t0.2221078\n",
      "34\tScore: 0.9288598\tWeights: 0.1198654\t0.3376152\t0.9429097\t0.3232029\n",
      "35\tScore: 0.9304258\tWeights: 0.5187906\t0.7030190\t0.3636296\t0.9717821\n",
      "36\tScore: 0.9294754\tWeights: 0.9624473\t0.2517823\t0.4972485\t0.3008783\n",
      "37\tScore: 0.9286079\tWeights: 0.2848405\t0.0368869\t0.6095643\t0.5026790\n",
      "38\tScore: 0.9270994\tWeights: 0.0514788\t0.2786465\t0.9082659\t0.2395619\n",
      "39\tScore: 0.9287453\tWeights: 0.1448949\t0.4894528\t0.9856505\t0.2420553\n",
      "40\tScore: 0.9305372\tWeights: 0.6721355\t0.7616196\t0.2376375\t0.7282163\n",
      "41\tScore: 0.9316942\tWeights: 0.3677831\t0.6323058\t0.6335297\t0.5357747\n",
      "42\tScore: 0.9295891\tWeights: 0.0902898\t0.8353025\t0.3207801\t0.1865185\n",
      "43\tScore: 0.9258227\tWeights: 0.0407751\t0.5908929\t0.6775644\t0.0165878\n",
      "44\tScore: 0.9294238\tWeights: 0.5120931\t0.2264958\t0.6451728\t0.1743664\n",
      "45\tScore: 0.9286783\tWeights: 0.6909377\t0.3867353\t0.9367300\t0.1375209\n",
      "46\tScore: 0.9288747\tWeights: 0.3410664\t0.1134735\t0.9246936\t0.8773394\n",
      "47\tScore: 0.9314202\tWeights: 0.2579416\t0.6599840\t0.8172222\t0.5552008\n",
      "48\tScore: 0.9261056\tWeights: 0.5296506\t0.2418523\t0.0931028\t0.8972158\n",
      "49\tScore: 0.9306527\tWeights: 0.9004181\t0.6331015\t0.3390298\t0.3492096\n",
      "50\tScore: 0.9316495\tWeights: 0.7259557\t0.8971103\t0.8870864\t0.7798755\n",
      "51\tScore: 0.9251132\tWeights: 0.6420316\t0.0841400\t0.1616287\t0.8985542\n",
      "52\tScore: 0.9236340\tWeights: 0.6064291\t0.0091971\t0.1014715\t0.6635018\n",
      "53\tScore: 0.9282832\tWeights: 0.0050616\t0.1608081\t0.5487338\t0.6918952\n",
      "54\tScore: 0.9295180\tWeights: 0.6519613\t0.2242693\t0.7121792\t0.2372491\n",
      "55\tScore: 0.9313730\tWeights: 0.3253997\t0.7464914\t0.6496329\t0.8492234\n",
      "56\tScore: 0.9299088\tWeights: 0.6576129\t0.5683086\t0.0936748\t0.3677158\n",
      "57\tScore: 0.9291811\tWeights: 0.2652024\t0.2439896\t0.9730106\t0.3930977\n",
      "58\tScore: 0.9312175\tWeights: 0.8920466\t0.6311386\t0.7948113\t0.5026371\n",
      "59\tScore: 0.9298239\tWeights: 0.5769039\t0.4925177\t0.1952430\t0.7224521\n",
      "60\tScore: 0.9262866\tWeights: 0.2807724\t0.0243160\t0.6454723\t0.1771107\n",
      "61\tScore: 0.9309971\tWeights: 0.9404586\t0.9539286\t0.9148644\t0.3701587\n",
      "62\tScore: 0.9299641\tWeights: 0.0154566\t0.9283186\t0.4281841\t0.9666548\n",
      "63\tScore: 0.9305302\tWeights: 0.9636200\t0.8530095\t0.2944489\t0.3850977\n",
      "64\tScore: 0.9289296\tWeights: 0.8511367\t0.3169220\t0.1694927\t0.5568013\n",
      "65\tScore: 0.9295887\tWeights: 0.9361548\t0.6960298\t0.5700612\t0.0971765\n",
      "66\tScore: 0.9301925\tWeights: 0.6150072\t0.9900539\t0.1400840\t0.5183297\n",
      "67\tScore: 0.9314251\tWeights: 0.8773731\t0.7407686\t0.6970157\t0.7024841\n",
      "68\tScore: 0.9303485\tWeights: 0.3594912\t0.2935918\t0.8093612\t0.8101134\n",
      "69\tScore: 0.9313018\tWeights: 0.8670723\t0.9132406\t0.5113424\t0.5015163\n",
      "70\tScore: 0.9313309\tWeights: 0.7982952\t0.6499639\t0.7019669\t0.7957927\n",
      "71\tScore: 0.9286357\tWeights: 0.8900053\t0.3379952\t0.3755830\t0.0939819\n",
      "72\tScore: 0.9286319\tWeights: 0.5782801\t0.0359423\t0.4655980\t0.5426446\n",
      "73\tScore: 0.9269674\tWeights: 0.2865413\t0.5908333\t0.0305002\t0.0373482\n",
      "74\tScore: 0.9289491\tWeights: 0.8226006\t0.3601906\t0.1270605\t0.5222433\n",
      "75\tScore: 0.9278715\tWeights: 0.7699936\t0.2158210\t0.6228905\t0.0853475\n",
      "76\tScore: 0.9309141\tWeights: 0.0516817\t0.5313546\t0.5406351\t0.6374299\n",
      "77\tScore: 0.9310784\tWeights: 0.7260913\t0.9758521\t0.5163003\t0.3229565\n",
      "78\tScore: 0.9284095\tWeights: 0.7951862\t0.2708323\t0.4389714\t0.0784564\n",
      "79\tScore: 0.9309572\tWeights: 0.0253507\t0.9626484\t0.8359801\t0.6959742\n",
      "80\tScore: 0.9301712\tWeights: 0.4089529\t0.1732943\t0.1564370\t0.2502429\n",
      "81\tScore: 0.9311599\tWeights: 0.5492267\t0.7145959\t0.6601974\t0.2799339\n",
      "82\tScore: 0.9312313\tWeights: 0.9548653\t0.7378969\t0.5543541\t0.6117207\n",
      "83\tScore: 0.9295083\tWeights: 0.4196001\t0.2477310\t0.3559727\t0.7578461\n",
      "84\tScore: 0.9304085\tWeights: 0.0143935\t0.1160726\t0.0460026\t0.0407288\n",
      "85\tScore: 0.9297250\tWeights: 0.8554606\t0.7036579\t0.4741738\t0.0978342\n",
      "86\tScore: 0.9306728\tWeights: 0.4916159\t0.4734718\t0.1732019\t0.4338516\n",
      "87\tScore: 0.9291026\tWeights: 0.3985047\t0.6158501\t0.6350937\t0.0453040\n",
      "88\tScore: 0.9310295\tWeights: 0.3746126\t0.6258599\t0.5031363\t0.8564898\n",
      "89\tScore: 0.9261950\tWeights: 0.6586936\t0.1629344\t0.0705687\t0.6424193\n",
      "90\tScore: 0.9303934\tWeights: 0.0265113\t0.5857756\t0.9402302\t0.5754742\n",
      "91\tScore: 0.9316212\tWeights: 0.3881699\t0.6432882\t0.4582529\t0.5456168\n",
      "92\tScore: 0.9305708\tWeights: 0.9414648\t0.3861026\t0.9611906\t0.9053506\n",
      "93\tScore: 0.9284204\tWeights: 0.1957911\t0.0693613\t0.1007780\t0.0182218\n",
      "94\tScore: 0.9289512\tWeights: 0.0944430\t0.6830068\t0.0711886\t0.3189756\n",
      "95\tScore: 0.9273419\tWeights: 0.8448753\t0.0232719\t0.8144685\t0.2818548\n",
      "96\tScore: 0.9308873\tWeights: 0.1181648\t0.6967372\t0.6289428\t0.8774720\n",
      "97\tScore: 0.9301824\tWeights: 0.7350710\t0.8034809\t0.2820346\t0.1774395\n",
      "98\tScore: 0.9310877\tWeights: 0.7506148\t0.8068347\t0.9905051\t0.4126177\n",
      "99\tScore: 0.9304606\tWeights: 0.3720181\t0.7764130\t0.3408035\t0.9307573\n",
      "100\tScore: 0.9308664\tWeights: 0.8584128\t0.4289940\t0.7508711\t0.7545429\n"
     ]
    }
   ],
   "source": [
    "def roc_min_func(weights):\n",
    "    final_prediction = 0\n",
    "    for weight, prediction in zip(weights, blend_train):\n",
    "        final_prediction += weight * prediction\n",
    "    return roc_auc_score(np.array(oof_one.target), final_prediction)\n",
    "\n",
    "\n",
    "print(\"\\n Finding Blending Weights ...\")\n",
    "res_list = []\n",
    "weights_list = []\n",
    "\n",
    "for k in range(100):\n",
    "    starting_values = np.random.uniform(size=len(blend_train))\n",
    "    bounds = [(0, 1)] * len(blend_train)\n",
    "\n",
    "    res = minimize(\n",
    "        roc_min_func,\n",
    "        starting_values,\n",
    "        method=\"L-BFGS-B\",\n",
    "        bounds=bounds,\n",
    "        options={\"disp\": False, \"maxiter\": 100000},\n",
    "    )\n",
    "\n",
    "    res_list.append(res[\"fun\"])\n",
    "    weights_list.append(res[\"x\"])\n",
    "\n",
    "    \n",
    "    res_fun = format(res[\"fun\"], '.7f')\n",
    "    items = [format(item, '.7f') for item in res[\"x\"]]\n",
    "    \n",
    "    print(\n",
    "        \"{iter}\\tScore: {score}\\tWeights: {weights}\".format(\n",
    "            iter=(k + 1),\n",
    "            score=res_fun,\n",
    "            weights=\"\\t\".join([str(item) for item in items]),\n",
    "        )\n",
    "    )\n",
    "\n",
    "bestSC = np.max(res_list)\n",
    "bestWght = weights_list[np.argmax(res_list)]\n",
    "weights = bestWght\n",
    "blend_score = round(bestSC, 6)"
   ]
  },
  {
   "cell_type": "code",
   "execution_count": 8,
   "metadata": {
    "execution": {
     "iopub.execute_input": "2022-07-02T07:25:22.776266Z",
     "iopub.status.busy": "2022-07-02T07:25:22.775293Z",
     "iopub.status.idle": "2022-07-02T07:25:22.781252Z",
     "shell.execute_reply": "2022-07-02T07:25:22.781706Z",
     "shell.execute_reply.started": "2022-07-02T07:24:57.140915Z"
    },
    "papermill": {
     "duration": 0.031015,
     "end_time": "2022-07-02T07:25:22.781892",
     "exception": false,
     "start_time": "2022-07-02T07:25:22.750877",
     "status": "completed"
    },
    "tags": []
   },
   "outputs": [
    {
     "name": "stdout",
     "output_type": "stream",
     "text": [
      "\n",
      " Ensemble Score: 0.9316942291023538\n",
      "\n",
      " Best Weights: [0.36778313 0.63230583 0.63352971 0.53577468]\n",
      "\n",
      " Your final model:\n",
      " 0.367783 * model-1\n",
      " 0.632306 * model-2\n",
      " 0.633530 * model-3\n",
      " 0.535775 * model-4\n"
     ]
    }
   ],
   "source": [
    "print('\\n Ensemble Score: {best_score}'.format(best_score=bestSC))\n",
    "print('\\n Best Weights: {weights}'.format(weights=bestWght))\n",
    "\n",
    "train_prices = np.zeros(len(blend_train[0]))\n",
    "test_prices  = np.zeros(len(blend_test[0]))\n",
    "\n",
    "print('\\n Your final model:')\n",
    "for k in range(len(blend_test)):\n",
    "    print(' %.6f * model-%d' % (weights[k], (k + 1)))\n",
    "    test_prices += blend_test[k] * weights[k]\n",
    "\n",
    "for k in range(len(blend_train)):\n",
    "    train_prices += blend_train[k] * weights[k]"
   ]
  },
  {
   "cell_type": "code",
   "execution_count": 9,
   "metadata": {
    "execution": {
     "iopub.execute_input": "2022-07-02T07:25:22.823316Z",
     "iopub.status.busy": "2022-07-02T07:25:22.822472Z",
     "iopub.status.idle": "2022-07-02T07:25:22.826200Z",
     "shell.execute_reply": "2022-07-02T07:25:22.825598Z",
     "shell.execute_reply.started": "2022-07-02T07:24:57.154008Z"
    },
    "papermill": {
     "duration": 0.026519,
     "end_time": "2022-07-02T07:25:22.826328",
     "exception": false,
     "start_time": "2022-07-02T07:25:22.799809",
     "status": "completed"
    },
    "tags": []
   },
   "outputs": [],
   "source": [
    "test_one.target = (\n",
    "    test_one.target.values * bestWght[0]\n",
    "    + test_two.target.values * bestWght[1]\n",
    "    + test_three.target.values * bestWght[2]\n",
    "    + test_four.target.values * bestWght[3]\n",
    ") / max(bestWght)\n"
   ]
  },
  {
   "cell_type": "code",
   "execution_count": 10,
   "metadata": {
    "execution": {
     "iopub.execute_input": "2022-07-02T07:25:22.866803Z",
     "iopub.status.busy": "2022-07-02T07:25:22.866159Z",
     "iopub.status.idle": "2022-07-02T07:25:23.173582Z",
     "shell.execute_reply": "2022-07-02T07:25:23.174041Z",
     "shell.execute_reply.started": "2022-07-02T07:24:57.171146Z"
    },
    "papermill": {
     "duration": 0.330515,
     "end_time": "2022-07-02T07:25:23.174197",
     "exception": false,
     "start_time": "2022-07-02T07:25:22.843682",
     "status": "completed"
    },
    "tags": []
   },
   "outputs": [
    {
     "data": {
      "image/png": "[encoded data removed]",
      "text/plain": [
       "<Figure size 432x288 with 1 Axes>"
      ]
     },
     "metadata": {
      "needs_background": "light"
     },
     "output_type": "display_data"
    }
   ],
   "source": [
    "plt.hist(test_one.target,bins=100)\n",
    "plt.ylim((0,100))\n",
    "plt.show()"
   ]
  },
  {
   "cell_type": "markdown",
   "metadata": {
    "papermill": {
     "duration": 0.017674,
     "end_time": "2022-07-02T07:25:23.209759",
     "exception": false,
     "start_time": "2022-07-02T07:25:23.192085",
     "status": "completed"
    },
    "tags": []
   },
   "source": [
    "# Bayesian Optimization\n",
    "\n",
    "Next, Bayesian. "
   ]
  },
  {
   "cell_type": "code",
   "execution_count": 11,
   "metadata": {
    "execution": {
     "iopub.execute_input": "2022-07-02T07:25:23.252799Z",
     "iopub.status.busy": "2022-07-02T07:25:23.252209Z",
     "iopub.status.idle": "2022-07-02T07:25:23.356955Z",
     "shell.execute_reply": "2022-07-02T07:25:23.357424Z",
     "shell.execute_reply.started": "2022-07-02T07:24:57.551535Z"
    },
    "papermill": {
     "duration": 0.129786,
     "end_time": "2022-07-02T07:25:23.357583",
     "exception": false,
     "start_time": "2022-07-02T07:25:23.227797",
     "status": "completed"
    },
    "tags": []
   },
   "outputs": [],
   "source": [
    "train = pd.read_csv('/kaggle/input/siim-isic-melanoma-classification/train.csv')\n",
    "test = pd.read_csv('/kaggle/input/siim-isic-melanoma-classification/test.csv')\n",
    "sub = pd.read_csv('/kaggle/input/siim-isic-melanoma-classification/sample_submission.csv')"
   ]
  },
  {
   "cell_type": "code",
   "execution_count": 12,
   "metadata": {
    "execution": {
     "iopub.execute_input": "2022-07-02T07:25:23.396961Z",
     "iopub.status.busy": "2022-07-02T07:25:23.396264Z",
     "iopub.status.idle": "2022-07-02T07:25:23.761195Z",
     "shell.execute_reply": "2022-07-02T07:25:23.760675Z",
     "shell.execute_reply.started": "2022-07-02T07:24:57.627946Z"
    },
    "papermill": {
     "duration": 0.385432,
     "end_time": "2022-07-02T07:25:23.761313",
     "exception": false,
     "start_time": "2022-07-02T07:25:23.375881",
     "status": "completed"
    },
    "tags": []
   },
   "outputs": [
    {
     "name": "stdout",
     "output_type": "stream",
     "text": [
      "exp1: OOF auc:0.9117\n",
      "exp2: OOF auc:0.9178\n",
      "exp3: OOF auc:0.9038\n",
      "exp4: OOF auc:0.9053\n"
     ]
    }
   ],
   "source": [
    "dirname = '/kaggle/input/e6-oof-prediction'\n",
    "prefix = ['exp1', 'exp2', 'exp3', 'exp4', ]\n",
    "\n",
    "for model in range(4):\n",
    "    _oof = pd.read_csv(os.path.join(dirname, f\"oof_e6_{prefix[model]}_seed_42.csv\"))\n",
    "    score = roc_auc_score(_oof['target'], _oof['pred'])\n",
    "    print(f\"{prefix[model]}: OOF auc:{score:.4}\")\n",
    "\n",
    "    _oof = _oof.rename(columns={\"pred\":prefix[model]}).drop([\"target\"],axis=1)\n",
    "    \n",
    "    if \"fold\" in _oof.columns:\n",
    "        _oof = _oof.drop([\"fold\"],axis=1)\n",
    "\n",
    "    train = train.merge(_oof, on=\"image_name\")   \n",
    "\n",
    "    _sub = pd.read_csv(os.path.join(dirname, f\"s_e6_{prefix[model]}_seed_42.csv\"))\n",
    "    _sub.columns = [\"image_name\", prefix[model]]    \n",
    "    test = test.merge(_sub, on=\"image_name\")  "
   ]
  },
  {
   "cell_type": "code",
   "execution_count": 13,
   "metadata": {
    "execution": {
     "iopub.execute_input": "2022-07-02T07:25:23.803098Z",
     "iopub.status.busy": "2022-07-02T07:25:23.802142Z",
     "iopub.status.idle": "2022-07-02T07:25:31.450478Z",
     "shell.execute_reply": "2022-07-02T07:25:31.451556Z"
    },
    "papermill": {
     "duration": 7.671436,
     "end_time": "2022-07-02T07:25:31.451873",
     "exception": false,
     "start_time": "2022-07-02T07:25:23.780437",
     "status": "completed"
    },
    "tags": []
   },
   "outputs": [
    {
     "name": "stdout",
     "output_type": "stream",
     "text": [
      "|   iter    |  target   |    c0     |    c1     |    c2     |    c3     |\n",
      "-------------------------------------------------------------------------\n",
      "| \u001b[0m 1       \u001b[0m | \u001b[0m 0.9316  \u001b[0m | \u001b[0m 0.3745  \u001b[0m | \u001b[0m 0.9507  \u001b[0m | \u001b[0m 0.732   \u001b[0m | \u001b[0m 0.5987  \u001b[0m |\n",
      "| \u001b[0m 2       \u001b[0m | \u001b[0m 0.9219  \u001b[0m | \u001b[0m 0.156   \u001b[0m | \u001b[0m 0.156   \u001b[0m | \u001b[0m 0.05808 \u001b[0m | \u001b[0m 0.8662  \u001b[0m |\n",
      "| \u001b[0m 3       \u001b[0m | \u001b[0m 0.9279  \u001b[0m | \u001b[0m 0.6011  \u001b[0m | \u001b[0m 0.7081  \u001b[0m | \u001b[0m 0.02058 \u001b[0m | \u001b[0m 0.9699  \u001b[0m |\n",
      "| \u001b[0m 4       \u001b[0m | \u001b[0m 0.9281  \u001b[0m | \u001b[0m 0.8324  \u001b[0m | \u001b[0m 0.2123  \u001b[0m | \u001b[0m 0.1818  \u001b[0m | \u001b[0m 0.1834  \u001b[0m |\n",
      "| \u001b[0m 5       \u001b[0m | \u001b[0m 0.9316  \u001b[0m | \u001b[0m 0.3042  \u001b[0m | \u001b[0m 0.5248  \u001b[0m | \u001b[0m 0.4319  \u001b[0m | \u001b[0m 0.2912  \u001b[0m |\n",
      "| \u001b[0m 6       \u001b[0m | \u001b[0m 0.9295  \u001b[0m | \u001b[0m 0.6119  \u001b[0m | \u001b[0m 0.1395  \u001b[0m | \u001b[0m 0.2921  \u001b[0m | \u001b[0m 0.3664  \u001b[0m |\n",
      "| \u001b[0m 7       \u001b[0m | \u001b[0m 0.9308  \u001b[0m | \u001b[0m 0.4561  \u001b[0m | \u001b[0m 0.7852  \u001b[0m | \u001b[0m 0.1997  \u001b[0m | \u001b[0m 0.5142  \u001b[0m |\n",
      "| \u001b[0m 8       \u001b[0m | \u001b[0m 0.9274  \u001b[0m | \u001b[0m 0.5924  \u001b[0m | \u001b[0m 0.04645 \u001b[0m | \u001b[0m 0.6075  \u001b[0m | \u001b[0m 0.1705  \u001b[0m |\n",
      "| \u001b[0m 9       \u001b[0m | \u001b[0m 0.9311  \u001b[0m | \u001b[0m 0.06505 \u001b[0m | \u001b[0m 0.9489  \u001b[0m | \u001b[0m 0.9656  \u001b[0m | \u001b[0m 0.8084  \u001b[0m |\n",
      "| \u001b[0m 10      \u001b[0m | \u001b[0m 0.9293  \u001b[0m | \u001b[0m 0.3046  \u001b[0m | \u001b[0m 0.09767 \u001b[0m | \u001b[0m 0.6842  \u001b[0m | \u001b[0m 0.4402  \u001b[0m |\n",
      "| \u001b[0m 11      \u001b[0m | \u001b[0m 0.9257  \u001b[0m | \u001b[0m 0.122   \u001b[0m | \u001b[0m 0.4952  \u001b[0m | \u001b[0m 0.03439 \u001b[0m | \u001b[0m 0.9093  \u001b[0m |\n",
      "| \u001b[0m 12      \u001b[0m | \u001b[0m 0.9313  \u001b[0m | \u001b[0m 0.2588  \u001b[0m | \u001b[0m 0.6625  \u001b[0m | \u001b[0m 0.3117  \u001b[0m | \u001b[0m 0.5201  \u001b[0m |\n",
      "| \u001b[0m 13      \u001b[0m | \u001b[0m 0.9298  \u001b[0m | \u001b[0m 0.5467  \u001b[0m | \u001b[0m 0.1849  \u001b[0m | \u001b[0m 0.9696  \u001b[0m | \u001b[0m 0.7751  \u001b[0m |\n",
      "| \u001b[0m 14      \u001b[0m | \u001b[0m 0.9312  \u001b[0m | \u001b[0m 0.9395  \u001b[0m | \u001b[0m 0.8948  \u001b[0m | \u001b[0m 0.5979  \u001b[0m | \u001b[0m 0.9219  \u001b[0m |\n",
      "| \u001b[0m 15      \u001b[0m | \u001b[0m 0.9281  \u001b[0m | \u001b[0m 0.08849 \u001b[0m | \u001b[0m 0.196   \u001b[0m | \u001b[0m 0.04523 \u001b[0m | \u001b[0m 0.3253  \u001b[0m |\n",
      "| \u001b[0m 16      \u001b[0m | \u001b[0m 0.9301  \u001b[0m | \u001b[0m 0.3887  \u001b[0m | \u001b[0m 0.2713  \u001b[0m | \u001b[0m 0.8287  \u001b[0m | \u001b[0m 0.3568  \u001b[0m |\n",
      "| \u001b[0m 17      \u001b[0m | \u001b[0m 0.9289  \u001b[0m | \u001b[0m 0.2809  \u001b[0m | \u001b[0m 0.5427  \u001b[0m | \u001b[0m 0.1409  \u001b[0m | \u001b[0m 0.8022  \u001b[0m |\n",
      "| \u001b[0m 18      \u001b[0m | \u001b[0m 0.9292  \u001b[0m | \u001b[0m 0.07455 \u001b[0m | \u001b[0m 0.9869  \u001b[0m | \u001b[0m 0.7722  \u001b[0m | \u001b[0m 0.1987  \u001b[0m |\n",
      "| \u001b[0m 19      \u001b[0m | \u001b[0m 0.9309  \u001b[0m | \u001b[0m 0.005522\u001b[0m | \u001b[0m 0.8155  \u001b[0m | \u001b[0m 0.7069  \u001b[0m | \u001b[0m 0.729   \u001b[0m |\n",
      "| \u001b[0m 20      \u001b[0m | \u001b[0m 0.9269  \u001b[0m | \u001b[0m 0.7713  \u001b[0m | \u001b[0m 0.07404 \u001b[0m | \u001b[0m 0.3585  \u001b[0m | \u001b[0m 0.1159  \u001b[0m |\n",
      "| \u001b[0m 21      \u001b[0m | \u001b[0m 0.9291  \u001b[0m | \u001b[0m 0.8631  \u001b[0m | \u001b[0m 0.6233  \u001b[0m | \u001b[0m 0.3309  \u001b[0m | \u001b[0m 0.06356 \u001b[0m |\n",
      "| \u001b[0m 22      \u001b[0m | \u001b[0m 0.9308  \u001b[0m | \u001b[0m 0.311   \u001b[0m | \u001b[0m 0.3252  \u001b[0m | \u001b[0m 0.7296  \u001b[0m | \u001b[0m 0.6376  \u001b[0m |\n",
      "| \u001b[0m 23      \u001b[0m | \u001b[0m 0.9288  \u001b[0m | \u001b[0m 0.8872  \u001b[0m | \u001b[0m 0.4722  \u001b[0m | \u001b[0m 0.1196  \u001b[0m | \u001b[0m 0.7132  \u001b[0m |\n",
      "| \u001b[0m 24      \u001b[0m | \u001b[0m 0.9313  \u001b[0m | \u001b[0m 0.7608  \u001b[0m | \u001b[0m 0.5613  \u001b[0m | \u001b[0m 0.771   \u001b[0m | \u001b[0m 0.4938  \u001b[0m |\n",
      "| \u001b[0m 25      \u001b[0m | \u001b[0m 0.9284  \u001b[0m | \u001b[0m 0.5227  \u001b[0m | \u001b[0m 0.4275  \u001b[0m | \u001b[0m 0.02542 \u001b[0m | \u001b[0m 0.1079  \u001b[0m |\n",
      "| \u001b[0m 26      \u001b[0m | \u001b[0m 0.9307  \u001b[0m | \u001b[0m 0.03143 \u001b[0m | \u001b[0m 0.6364  \u001b[0m | \u001b[0m 0.3144  \u001b[0m | \u001b[0m 0.5086  \u001b[0m |\n",
      "| \u001b[0m 27      \u001b[0m | \u001b[0m 0.9294  \u001b[0m | \u001b[0m 0.9076  \u001b[0m | \u001b[0m 0.2493  \u001b[0m | \u001b[0m 0.4104  \u001b[0m | \u001b[0m 0.7556  \u001b[0m |\n",
      "| \u001b[0m 28      \u001b[0m | \u001b[0m 0.9301  \u001b[0m | \u001b[0m 0.2288  \u001b[0m | \u001b[0m 0.07698 \u001b[0m | \u001b[0m 0.2898  \u001b[0m | \u001b[0m 0.1612  \u001b[0m |\n",
      "| \u001b[0m 29      \u001b[0m | \u001b[0m 0.9313  \u001b[0m | \u001b[0m 0.9297  \u001b[0m | \u001b[0m 0.8081  \u001b[0m | \u001b[0m 0.6334  \u001b[0m | \u001b[0m 0.8715  \u001b[0m |\n",
      "| \u001b[0m 30      \u001b[0m | \u001b[0m 0.9298  \u001b[0m | \u001b[0m 0.8037  \u001b[0m | \u001b[0m 0.1866  \u001b[0m | \u001b[0m 0.8926  \u001b[0m | \u001b[0m 0.5393  \u001b[0m |\n",
      "| \u001b[0m 31      \u001b[0m | \u001b[0m 0.9296  \u001b[0m | \u001b[0m 0.8074  \u001b[0m | \u001b[0m 0.8961  \u001b[0m | \u001b[0m 0.318   \u001b[0m | \u001b[0m 0.1101  \u001b[0m |\n",
      "| \u001b[0m 32      \u001b[0m | \u001b[0m 0.9306  \u001b[0m | \u001b[0m 0.2279  \u001b[0m | \u001b[0m 0.4271  \u001b[0m | \u001b[0m 0.818   \u001b[0m | \u001b[0m 0.8607  \u001b[0m |\n",
      "| \u001b[0m 33      \u001b[0m | \u001b[0m 0.9303  \u001b[0m | \u001b[0m 0.006952\u001b[0m | \u001b[0m 0.5107  \u001b[0m | \u001b[0m 0.4174  \u001b[0m | \u001b[0m 0.2221  \u001b[0m |\n",
      "| \u001b[0m 34      \u001b[0m | \u001b[0m 0.9289  \u001b[0m | \u001b[0m 0.1199  \u001b[0m | \u001b[0m 0.3376  \u001b[0m | \u001b[0m 0.9429  \u001b[0m | \u001b[0m 0.3232  \u001b[0m |\n",
      "| \u001b[0m 35      \u001b[0m | \u001b[0m 0.9304  \u001b[0m | \u001b[0m 0.5188  \u001b[0m | \u001b[0m 0.703   \u001b[0m | \u001b[0m 0.3636  \u001b[0m | \u001b[0m 0.9718  \u001b[0m |\n",
      "| \u001b[0m 36      \u001b[0m | \u001b[0m 0.9295  \u001b[0m | \u001b[0m 0.9624  \u001b[0m | \u001b[0m 0.2518  \u001b[0m | \u001b[0m 0.4972  \u001b[0m | \u001b[0m 0.3009  \u001b[0m |\n",
      "| \u001b[0m 37      \u001b[0m | \u001b[0m 0.9286  \u001b[0m | \u001b[0m 0.2848  \u001b[0m | \u001b[0m 0.03689 \u001b[0m | \u001b[0m 0.6096  \u001b[0m | \u001b[0m 0.5027  \u001b[0m |\n",
      "| \u001b[0m 38      \u001b[0m | \u001b[0m 0.9271  \u001b[0m | \u001b[0m 0.05148 \u001b[0m | \u001b[0m 0.2786  \u001b[0m | \u001b[0m 0.9083  \u001b[0m | \u001b[0m 0.2396  \u001b[0m |\n",
      "| \u001b[0m 39      \u001b[0m | \u001b[0m 0.9287  \u001b[0m | \u001b[0m 0.1449  \u001b[0m | \u001b[0m 0.4895  \u001b[0m | \u001b[0m 0.9857  \u001b[0m | \u001b[0m 0.2421  \u001b[0m |\n",
      "| \u001b[0m 40      \u001b[0m | \u001b[0m 0.9305  \u001b[0m | \u001b[0m 0.6721  \u001b[0m | \u001b[0m 0.7616  \u001b[0m | \u001b[0m 0.2376  \u001b[0m | \u001b[0m 0.7282  \u001b[0m |\n",
      "| \u001b[0m 41      \u001b[0m | \u001b[0m 0.9316  \u001b[0m | \u001b[0m 0.6246  \u001b[0m | \u001b[0m 1.0     \u001b[0m | \u001b[0m 1.0     \u001b[0m | \u001b[0m 1.0     \u001b[0m |\n",
      "| \u001b[0m 42      \u001b[0m | \u001b[0m 0.9302  \u001b[0m | \u001b[0m 0.2414  \u001b[0m | \u001b[0m 0.09316 \u001b[0m | \u001b[0m 0.2785  \u001b[0m | \u001b[0m 0.1374  \u001b[0m |\n",
      "| \u001b[0m 43      \u001b[0m | \u001b[0m 0.9297  \u001b[0m | \u001b[0m 0.789   \u001b[0m | \u001b[0m 0.8862  \u001b[0m | \u001b[0m 0.3095  \u001b[0m | \u001b[0m 0.1245  \u001b[0m |\n",
      "| \u001b[0m 44      \u001b[0m | \u001b[0m 0.9314  \u001b[0m | \u001b[0m 1.0     \u001b[0m | \u001b[0m 1.0     \u001b[0m | \u001b[0m 1.0     \u001b[0m | \u001b[0m 0.6056  \u001b[0m |\n",
      "| \u001b[0m 45      \u001b[0m | \u001b[0m 0.9315  \u001b[0m | \u001b[0m 0.4877  \u001b[0m | \u001b[0m 0.7263  \u001b[0m | \u001b[0m 1.0     \u001b[0m | \u001b[0m 0.704   \u001b[0m |\n",
      "| \u001b[0m 46      \u001b[0m | \u001b[0m 0.9306  \u001b[0m | \u001b[0m 0.9383  \u001b[0m | \u001b[0m 0.7063  \u001b[0m | \u001b[0m 0.4501  \u001b[0m | \u001b[0m 0.9985  \u001b[0m |\n",
      "| \u001b[0m 47      \u001b[0m | \u001b[0m 0.9313  \u001b[0m | \u001b[0m 0.3415  \u001b[0m | \u001b[0m 1.0     \u001b[0m | \u001b[0m 0.676   \u001b[0m | \u001b[0m 1.0     \u001b[0m |\n",
      "| \u001b[0m 48      \u001b[0m | \u001b[0m 0.9312  \u001b[0m | \u001b[0m 1.0     \u001b[0m | \u001b[0m 0.7168  \u001b[0m | \u001b[0m 1.0     \u001b[0m | \u001b[0m 1.0     \u001b[0m |\n",
      "| \u001b[0m 49      \u001b[0m | \u001b[0m 0.9291  \u001b[0m | \u001b[0m 1.0     \u001b[0m | \u001b[0m 1.0     \u001b[0m | \u001b[0m 1.0     \u001b[0m | \u001b[0m 0.05182 \u001b[0m |\n",
      "| \u001b[95m 50      \u001b[0m | \u001b[95m 0.9317  \u001b[0m | \u001b[95m 0.4903  \u001b[0m | \u001b[95m 0.6495  \u001b[0m | \u001b[95m 0.5794  \u001b[0m | \u001b[95m 0.5802  \u001b[0m |\n",
      "| \u001b[0m 51      \u001b[0m | \u001b[0m 0.9178  \u001b[0m | \u001b[0m 0.0     \u001b[0m | \u001b[0m 1.0     \u001b[0m | \u001b[0m 0.0     \u001b[0m | \u001b[0m 0.0     \u001b[0m |\n",
      "| \u001b[0m 52      \u001b[0m | \u001b[0m 0.9249  \u001b[0m | \u001b[0m 0.2062  \u001b[0m | \u001b[0m 0.9699  \u001b[0m | \u001b[0m 0.01434 \u001b[0m | \u001b[0m 0.06946 \u001b[0m |\n",
      "| \u001b[0m 53      \u001b[0m | \u001b[0m 0.9227  \u001b[0m | \u001b[0m 0.4484  \u001b[0m | \u001b[0m 0.08791 \u001b[0m | \u001b[0m 0.05172 \u001b[0m | \u001b[0m 0.8369  \u001b[0m |\n",
      "| \u001b[0m 54      \u001b[0m | \u001b[0m 0.9283  \u001b[0m | \u001b[0m 1.0     \u001b[0m | \u001b[0m 0.0     \u001b[0m | \u001b[0m 1.0     \u001b[0m | \u001b[0m 1.0     \u001b[0m |\n",
      "| \u001b[0m 55      \u001b[0m | \u001b[0m 0.9303  \u001b[0m | \u001b[0m 0.2407  \u001b[0m | \u001b[0m 0.08536 \u001b[0m | \u001b[0m 0.2477  \u001b[0m | \u001b[0m 0.1367  \u001b[0m |\n",
      "| \u001b[0m 56      \u001b[0m | \u001b[0m 0.9312  \u001b[0m | \u001b[0m 0.5714  \u001b[0m | \u001b[0m 1.0     \u001b[0m | \u001b[0m 1.0     \u001b[0m | \u001b[0m 0.4168  \u001b[0m |\n",
      "| \u001b[0m 57      \u001b[0m | \u001b[0m 0.9294  \u001b[0m | \u001b[0m 0.7139  \u001b[0m | \u001b[0m 0.7475  \u001b[0m | \u001b[0m 0.04331 \u001b[0m | \u001b[0m 0.4027  \u001b[0m |\n",
      "| \u001b[0m 58      \u001b[0m | \u001b[0m 0.9308  \u001b[0m | \u001b[0m 0.8454  \u001b[0m | \u001b[0m 0.7179  \u001b[0m | \u001b[0m 0.2954  \u001b[0m | \u001b[0m 0.5407  \u001b[0m |\n",
      "| \u001b[0m 59      \u001b[0m | \u001b[0m 0.9315  \u001b[0m | \u001b[0m 0.7535  \u001b[0m | \u001b[0m 1.0     \u001b[0m | \u001b[0m 0.6197  \u001b[0m | \u001b[0m 0.5589  \u001b[0m |\n",
      "| \u001b[0m 60      \u001b[0m | \u001b[0m 0.931   \u001b[0m | \u001b[0m 1.0     \u001b[0m | \u001b[0m 0.6072  \u001b[0m | \u001b[0m 1.0     \u001b[0m | \u001b[0m 0.5686  \u001b[0m |\n",
      "| \u001b[0m 61      \u001b[0m | \u001b[0m 0.9251  \u001b[0m | \u001b[0m 0.0     \u001b[0m | \u001b[0m 0.0     \u001b[0m | \u001b[0m 1.0     \u001b[0m | \u001b[0m 1.0     \u001b[0m |\n",
      "| \u001b[0m 62      \u001b[0m | \u001b[0m 0.9274  \u001b[0m | \u001b[0m 0.05841 \u001b[0m | \u001b[0m 0.1288  \u001b[0m | \u001b[0m 0.5504  \u001b[0m | \u001b[0m 0.8696  \u001b[0m |\n",
      "| \u001b[0m 63      \u001b[0m | \u001b[0m 0.9299  \u001b[0m | \u001b[0m 0.9474  \u001b[0m | \u001b[0m 0.6037  \u001b[0m | \u001b[0m 0.1687  \u001b[0m | \u001b[0m 0.4402  \u001b[0m |\n",
      "| \u001b[0m 64      \u001b[0m | \u001b[0m 0.9315  \u001b[0m | \u001b[0m 1.0     \u001b[0m | \u001b[0m 1.0     \u001b[0m | \u001b[0m 1.0     \u001b[0m | \u001b[0m 1.0     \u001b[0m |\n",
      "| \u001b[0m 65      \u001b[0m | \u001b[0m 0.9296  \u001b[0m | \u001b[0m 0.0     \u001b[0m | \u001b[0m 1.0     \u001b[0m | \u001b[0m 0.3646  \u001b[0m | \u001b[0m 1.0     \u001b[0m |\n",
      "| \u001b[0m 66      \u001b[0m | \u001b[0m 0.9312  \u001b[0m | \u001b[0m 0.5907  \u001b[0m | \u001b[0m 0.6586  \u001b[0m | \u001b[0m 0.8341  \u001b[0m | \u001b[0m 1.0     \u001b[0m |\n",
      "| \u001b[95m 67      \u001b[0m | \u001b[95m 0.9317  \u001b[0m | \u001b[95m 0.7592  \u001b[0m | \u001b[95m 0.9691  \u001b[0m | \u001b[95m 0.8963  \u001b[0m | \u001b[95m 0.7529  \u001b[0m |\n",
      "| \u001b[0m 68      \u001b[0m | \u001b[0m 0.9303  \u001b[0m | \u001b[0m 0.9934  \u001b[0m | \u001b[0m 0.9968  \u001b[0m | \u001b[0m 0.2283  \u001b[0m | \u001b[0m 0.8125  \u001b[0m |\n",
      "| \u001b[0m 69      \u001b[0m | \u001b[0m 0.9314  \u001b[0m | \u001b[0m 0.1542  \u001b[0m | \u001b[0m 0.5801  \u001b[0m | \u001b[0m 0.6351  \u001b[0m | \u001b[0m 0.4984  \u001b[0m |\n",
      "| \u001b[0m 70      \u001b[0m | \u001b[0m 0.9311  \u001b[0m | \u001b[0m 0.4709  \u001b[0m | \u001b[0m 1.0     \u001b[0m | \u001b[0m 0.5265  \u001b[0m | \u001b[0m 0.3179  \u001b[0m |\n",
      "| \u001b[0m 71      \u001b[0m | \u001b[0m 0.9313  \u001b[0m | \u001b[0m 0.4627  \u001b[0m | \u001b[0m 1.0     \u001b[0m | \u001b[0m 0.4324  \u001b[0m | \u001b[0m 0.7435  \u001b[0m |\n",
      "| \u001b[0m 72      \u001b[0m | \u001b[0m 0.9311  \u001b[0m | \u001b[0m 0.178   \u001b[0m | \u001b[0m 0.7904  \u001b[0m | \u001b[0m 0.9914  \u001b[0m | \u001b[0m 0.9883  \u001b[0m |\n",
      "| \u001b[0m 73      \u001b[0m | \u001b[0m 0.9312  \u001b[0m | \u001b[0m 1.0     \u001b[0m | \u001b[0m 0.7847  \u001b[0m | \u001b[0m 0.6519  \u001b[0m | \u001b[0m 0.4728  \u001b[0m |\n",
      "| \u001b[0m 74      \u001b[0m | \u001b[0m 0.9221  \u001b[0m | \u001b[0m 0.7983  \u001b[0m | \u001b[0m 0.007808\u001b[0m | \u001b[0m 0.06733 \u001b[0m | \u001b[0m 0.8998  \u001b[0m |\n",
      "| \u001b[0m 75      \u001b[0m | \u001b[0m 0.9308  \u001b[0m | \u001b[0m 1.0     \u001b[0m | \u001b[0m 0.4881  \u001b[0m | \u001b[0m 0.6322  \u001b[0m | \u001b[0m 0.6527  \u001b[0m |\n",
      "| \u001b[0m 76      \u001b[0m | \u001b[0m 0.9314  \u001b[0m | \u001b[0m 0.6178  \u001b[0m | \u001b[0m 0.773   \u001b[0m | \u001b[0m 0.8553  \u001b[0m | \u001b[0m 0.4361  \u001b[0m |\n",
      "| \u001b[0m 77      \u001b[0m | \u001b[0m 0.9313  \u001b[0m | \u001b[0m 0.5941  \u001b[0m | \u001b[0m 0.4487  \u001b[0m | \u001b[0m 0.4353  \u001b[0m | \u001b[0m 0.4858  \u001b[0m |\n",
      "| \u001b[0m 78      \u001b[0m | \u001b[0m 0.9316  \u001b[0m | \u001b[0m 0.3334  \u001b[0m | \u001b[0m 0.9968  \u001b[0m | \u001b[0m 0.9465  \u001b[0m | \u001b[0m 0.7937  \u001b[0m |\n",
      "| \u001b[0m 79      \u001b[0m | \u001b[0m 0.931   \u001b[0m | \u001b[0m 0.1699  \u001b[0m | \u001b[0m 0.6768  \u001b[0m | \u001b[0m 1.0     \u001b[0m | \u001b[0m 0.6269  \u001b[0m |\n",
      "| \u001b[0m 80      \u001b[0m | \u001b[0m 0.9305  \u001b[0m | \u001b[0m 0.2242  \u001b[0m | \u001b[0m 0.8074  \u001b[0m | \u001b[0m 0.3292  \u001b[0m | \u001b[0m 0.2141  \u001b[0m |\n",
      "=========================================================================\n",
      "bo auc:0.9316718240316467, c0:0.7591599640902942, c1:0.9691330491958361, c2:0.8963222089728565, c3:0.752901483754932\n",
      " \n",
      "exp1 0.7591599640902942\n",
      "exp2 0.9691330491958361\n",
      "exp3 0.8963222089728565\n",
      "exp4 0.752901483754932\n"
     ]
    }
   ],
   "source": [
    "def dim_optimizer (df_oof, features, init_points = 20, n_iter = 100 ):\n",
    "    pbounds = {'c0': (0.0, 1.0), \n",
    "               'c1': (0.0, 1.0), \n",
    "               'c2': (0.0, 1.0), \n",
    "               'c3': (0.0, 1.0)}\n",
    "    \n",
    "    features = features\n",
    "\n",
    "    def dim_opt (df_oof, c0,c1,c2,c3):\n",
    "\n",
    "        x = (c0*df_oof[features[0]] + \n",
    "             c1*df_oof[features[1]] + \n",
    "             c2*df_oof[features[2]] + \n",
    "             c3*df_oof[features[3]])\n",
    "        \n",
    "        return roc_auc_score(df_oof['target'], x)\n",
    "\n",
    "\n",
    "\n",
    "    def q (c0,c1,c2,c3):\n",
    "        return dim_opt  ( df_oof, c0,c1,c2,c3)\n",
    "\n",
    "    optimizer = BayesianOptimization(\n",
    "        f=q,\n",
    "        pbounds=pbounds,\n",
    "        random_state=42,\n",
    "    )\n",
    "\n",
    "\n",
    "    optimizer.maximize(\n",
    "        init_points=init_points,\n",
    "        n_iter=n_iter,\n",
    "    )\n",
    "\n",
    "    c0 = optimizer.max[\"params\"][\"c0\"]\n",
    "    c1 = optimizer.max[\"params\"][\"c1\"]\n",
    "    c2 = optimizer.max[\"params\"][\"c2\"]\n",
    "    c3 = optimizer.max[\"params\"][\"c3\"]\n",
    "    t  = optimizer.max[\"target\"]\n",
    "    \n",
    "    print ( f'bo auc:{t}, c0:{c0}, c1:{c1}, c2:{c2}, c3:{c3}' )\n",
    "    \n",
    "    return c0, c1, c2, c3\n",
    "\n",
    "\n",
    "c0, c1, c2, c3 = dim_optimizer (train, prefix, \n",
    "                                init_points = 40, \n",
    "                                n_iter = 40  )\n",
    "\n",
    "print(' ')\n",
    "print (prefix[0],c0)\n",
    "print (prefix[1],c1)\n",
    "print (prefix[2],c2)\n",
    "print (prefix[3],c3)"
   ]
  },
  {
   "cell_type": "code",
   "execution_count": 14,
   "metadata": {
    "execution": {
     "iopub.execute_input": "2022-07-02T07:25:31.516405Z",
     "iopub.status.busy": "2022-07-02T07:25:31.515351Z",
     "iopub.status.idle": "2022-07-02T07:25:31.534288Z",
     "shell.execute_reply": "2022-07-02T07:25:31.533172Z"
    },
    "papermill": {
     "duration": 0.051734,
     "end_time": "2022-07-02T07:25:31.534467",
     "exception": false,
     "start_time": "2022-07-02T07:25:31.482733",
     "status": "completed"
    },
    "tags": []
   },
   "outputs": [
    {
     "name": "stdout",
     "output_type": "stream",
     "text": [
      "auc bo:0.9316718240316467\n"
     ]
    }
   ],
   "source": [
    "def bo_pred(df):\n",
    "    x = (\n",
    "        c0 * df[prefix[0]]\n",
    "        + c1 * df[prefix[1]]\n",
    "        + c2 * df[prefix[2]]\n",
    "        + c3 * df[prefix[3]]\n",
    "    )\n",
    "\n",
    "    return x\n",
    "\n",
    "\n",
    "train[\"pred\"] = bo_pred(train)\n",
    "score = roc_auc_score(train[\"target\"], train[\"pred\"])\n",
    "print(f\"auc bo:{score}\")\n"
   ]
  },
  {
   "cell_type": "code",
   "execution_count": 15,
   "metadata": {
    "execution": {
     "iopub.execute_input": "2022-07-02T07:25:31.598771Z",
     "iopub.status.busy": "2022-07-02T07:25:31.598118Z",
     "iopub.status.idle": "2022-07-02T07:25:31.858213Z",
     "shell.execute_reply": "2022-07-02T07:25:31.857675Z"
    },
    "papermill": {
     "duration": 0.296759,
     "end_time": "2022-07-02T07:25:31.858350",
     "exception": false,
     "start_time": "2022-07-02T07:25:31.561591",
     "status": "completed"
    },
    "tags": []
   },
   "outputs": [
    {
     "data": {
      "image/png": "[encoded data removed]",
      "text/plain": [
       "<Figure size 432x288 with 1 Axes>"
      ]
     },
     "metadata": {
      "needs_background": "light"
     },
     "output_type": "display_data"
    }
   ],
   "source": [
    "plt.hist(train.pred,bins=100)\n",
    "plt.ylim((0,100))\n",
    "plt.show()"
   ]
  },
  {
   "cell_type": "markdown",
   "metadata": {
    "papermill": {
     "duration": 0.026525,
     "end_time": "2022-07-02T07:25:31.911691",
     "exception": false,
     "start_time": "2022-07-02T07:25:31.885166",
     "status": "completed"
    },
    "tags": []
   },
   "source": [
    "## Compare L-BFGS-B vs Bayesian Operations\n",
    "\n",
    "\n",
    "|  Method | CV  |  \n",
    "|---|---|\n",
    "| L-BFGS-B  | 0.9316942291023538  |   \n",
    "| Bayesian-Op  | 0.9316718240316467  |"
   ]
  }
 ],
 "metadata": {
  "kernelspec": {
   "display_name": "Python 3",
   "language": "python",
   "name": "python3"
  },
  "language_info": {
   "codemirror_mode": {
    "name": "ipython",
    "version": 3
   },
   "file_extension": ".py",
   "mimetype": "text/x-python",
   "name": "python",
   "nbconvert_exporter": "python",
   "pygments_lexer": "ipython3",
   "version": "3.7.6"
  },
  "papermill": {
   "duration": 20.800936,
   "end_time": "2022-07-02T07:25:33.034891",
   "environment_variables": {},
   "exception": null,
   "input_path": "__notebook__.ipynb",
   "output_path": "__notebook__.ipynb",
   "parameters": {},
   "start_time": "2022-07-02T07:25:12.233955",
   "version": "2.1.0"
  }
 },
 "nbformat": 4,
 "nbformat_minor": 4
}
