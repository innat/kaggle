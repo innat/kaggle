{
 "cells": [
  {
   "cell_type": "markdown",
   "id": "89d676df",
   "metadata": {
    "papermill": {
     "duration": 0.008519,
     "end_time": "2022-06-02T22:19:43.616857",
     "exception": false,
     "start_time": "2022-06-02T22:19:43.608338",
     "status": "completed"
    },
    "tags": []
   },
   "source": [
    "# Hybrid EfficientNet Swin Transformer \n",
    "\n",
    "This notebook shows the implementation of **Hybrid EfficientNet Swin Transformer (HENetSwinT)** model, with the training script for **TPU** and also inference code for **GPU**. Such approach (**HENetSwinT**) was used in [Google Landmark Recognition 2021](https://www.kaggle.com/c/landmark-recognition-2021) competition by [Dieter](https://www.kaggle.com/christofhenkel) originally written in PyTorch, solution explained [here](https://www.kaggle.com/c/landmark-recognition-2021/discussion/277098) in great details. In this notebook, we'll try to accomplish it in `tf.keras`. The whole hybrid architecture (**HENetSwinT**) looks something like as follows:\n",
    "\n",
    "![](https://i.imgur.com/2iXNuBA.png)\n",
    "\n",
    "<div align=\"center\">\n",
    "  Model Architecture of Hybrid EfficientNet Swin Transformer (HENetSwinT)\n",
    "</div>"
   ]
  },
  {
   "cell_type": "markdown",
   "id": "ea579d39",
   "metadata": {
    "papermill": {
     "duration": 0.007249,
     "end_time": "2022-06-02T22:19:43.631772",
     "exception": false,
     "start_time": "2022-06-02T22:19:43.624523",
     "status": "completed"
    },
    "tags": []
   },
   "source": [
    "## Abstraction \n",
    "\n",
    "- In the given [cat-dog pet dataset](https://www.kaggle.com/c/petfinder-pawpularity-score/data), both image files and also meta informations are provided which can be used in training. The overall task is to analyze this raw images and metadata to predict the **Pawpularity** of pet photos. The target labels are given as a continuous quantity. The leaderboard score will be evaluated by **Root Mean Squared Error (RMSE)**, ([details](https://www.kaggle.com/c/petfinder-pawpularity-score/overview/evaluation)). So, we can frame this task as a regression category.\n",
    "\n",
    "- Though it's regression problem, it's shared by the community that it might be better to treat such regression problem as a classification problem. It's done by normalizing the regression labels within `0-1` range and use cross-entropy as a loss function. In this code example, we will do the same. More details are [here](https://www.kaggle.com/c/petfinder-pawpularity-score/discussion/275094).\n",
    "\n",
    "- For the modeling part, we first train a vision model on the **N** fold of the given samples. After training with the all folds, we'll take average of them and extract the features (embeddings) from the image files and further use it to train [CatBoost](https://catboost.ai/) model with another **N** folds. For the vision mdoel, we'll be using the **Hybrid-Swin Transformer** as described above. \n",
    "\n",
    "- The whole modeling approach is for **Experimentational** purposes. We can do different type of modeling approach in the same setup, dicussed in the another code examples, [Hybrid External MHA Transformer + RAPIS SVR](https://www.kaggle.com/ipythonx/hybrid-external-mha-transformer-rapis-svr) - [Discussion](https://www.kaggle.com/c/petfinder-pawpularity-score/discussion/286973). In summary, we can take both deep-network model's prediction and catboost model's prediction and then take average of them. \n",
    "\n",
    "- Also, here we're not using the given structural data yet. But of course, one can build a multi-input vision model that take image data and structure data; that is shown in this [notebook](https://www.kaggle.com/ipythonx/hybrid-external-mha-transformer-rapis-svr). For modeling with structure data or meta information, we can use one of the following models: \n",
    "    - [TF-Decision-Forests](https://www.tensorflow.org/decision_forests) - [Discussion and Starter](https://www.kaggle.com/c/petfinder-pawpularity-score/discussion/275182). \n",
    "    - [Behavior Sequence Transformer for Structured Data](https://arxiv.org/pdf/1905.06874.pdf) - [Discussion](https://www.kaggle.com/c/petfinder-pawpularity-score/discussion/287421) - [Starter](https://keras.io/examples/structured_data/movielens_recommendations_transformers/)."
   ]
  },
  {
   "cell_type": "markdown",
   "id": "1efce2b5",
   "metadata": {
    "papermill": {
     "duration": 0.007163,
     "end_time": "2022-06-02T22:19:43.646381",
     "exception": false,
     "start_time": "2022-06-02T22:19:43.639218",
     "status": "completed"
    },
    "tags": []
   },
   "source": [
    "<div class = \"alert alert-block alert-info\">\n",
    "    <h3><font color = \"red\">ATTENTION</font></h3>\n",
    "<ul>\n",
    "  <li>This notebook is configured to train the <strong>swin-transformer</strong> mdoel on <strong>TPU</strong>. But we already did train on TPU and saved the weights files (../input/pet-test-wg).\n",
    "  <li>So, this notebook uses the trained embeddings of the <strong>swin-transformer</strong> and uses for next stage training with <strong>CatBoost</strong> model followed by inference.</li>\n",
    "  <li>Additionally, from the above diagram, we made few changes in the architecture. We've used image size <code>896</code> to train the <strong>EfficientNetB0</strong> and use layer <code>blcok2b_add: (None, 224, 224, 24)</code> embeddings for <strong>swin-transformer</strong>. The final output of <strong>EfficientNet</strong> also gets concated with the <strong>swin-transformer's</strong> output. </li>\n",
    "    <li>Reference: https://github.com/innat/EfficientNet-Hybrid-Swin-Transformer</li>\n",
    "</ul>\n",
    "</div>\n",
    "\n",
    "So, the overal model architectue in this notebook would be:\n",
    "\n",
    "![download](https://user-images.githubusercontent.com/17668390/139668055-2d19ea63-25cc-4665-b711-749c54b97a40.png)\n"
   ]
  },
  {
   "cell_type": "markdown",
   "id": "1c28b8a7",
   "metadata": {
    "papermill": {
     "duration": 0.007296,
     "end_time": "2022-06-02T22:19:43.660952",
     "exception": false,
     "start_time": "2022-06-02T22:19:43.653656",
     "status": "completed"
    },
    "tags": []
   },
   "source": [
    "---\n",
    "\n",
    "**DISCLAIMER**\n",
    "\n",
    "- The implementation of swin-transformer in `tf.keras` is mostly borrowed from [rishigami/Swin-Transformer-TF ](https://github.com/rishigami/Swin-Transformer-TF).\n",
    "- For general training pipelines for next stage training (catbost model), we'll be using [ROBIN SMITS](https://www.kaggle.com/rsmits/effnet-b2-feature-models-catboost)'s great kernel. "
   ]
  },
  {
   "cell_type": "code",
   "execution_count": 1,
   "id": "45790dca",
   "metadata": {
    "_cell_guid": "b1076dfc-b9ad-4769-8c92-a6c4dae69d19",
    "_uuid": "8f2839f25d086af736a60e9eeb907d3b93b6e0e5",
    "execution": {
     "iopub.execute_input": "2022-06-02T22:19:43.677910Z",
     "iopub.status.busy": "2022-06-02T22:19:43.676866Z",
     "iopub.status.idle": "2022-06-02T22:19:50.904344Z",
     "shell.execute_reply": "2022-06-02T22:19:50.903518Z"
    },
    "papermill": {
     "duration": 7.23821,
     "end_time": "2022-06-02T22:19:50.906528",
     "exception": false,
     "start_time": "2022-06-02T22:19:43.668318",
     "status": "completed"
    },
    "tags": []
   },
   "outputs": [
    {
     "name": "stdout",
     "output_type": "stream",
     "text": [
      "2.6.4\n"
     ]
    }
   ],
   "source": [
    "import numpy as np\n",
    "import pandas as pd\n",
    "import gc,random, os, sys, pickle\n",
    "from catboost import CatBoostRegressor\n",
    "from sklearn.metrics import mean_squared_error\n",
    "from sklearn.model_selection import StratifiedKFold\n",
    "\n",
    "os.environ['TF_CPP_MIN_LOG_LEVEL'] = '3'\n",
    "import tensorflow as tf ; print(tf.__version__)\n",
    "from tensorflow import keras \n",
    "from tensorflow.keras import backend as K \n",
    "\n",
    "tf.config.optimizer.set_jit(True)\n",
    "physical_devices = tf.config.list_physical_devices('GPU')\n",
    "try: tf.config.experimental.set_memory_growth(physical_devices[0], True)\n",
    "except: pass \n",
    "\n",
    "sys.path.append('../input/swintransformertf')\n",
    "from swintransformer import SwinTransformer"
   ]
  },
  {
   "cell_type": "code",
   "execution_count": 2,
   "id": "96cb7700",
   "metadata": {
    "execution": {
     "iopub.execute_input": "2022-06-02T22:19:50.924068Z",
     "iopub.status.busy": "2022-06-02T22:19:50.923012Z",
     "iopub.status.idle": "2022-06-02T22:19:50.988566Z",
     "shell.execute_reply": "2022-06-02T22:19:50.987800Z"
    },
    "papermill": {
     "duration": 0.075927,
     "end_time": "2022-06-02T22:19:50.990452",
     "exception": false,
     "start_time": "2022-06-02T22:19:50.914525",
     "status": "completed"
    },
    "tags": []
   },
   "outputs": [],
   "source": [
    "SwinTransformer?"
   ]
  },
  {
   "cell_type": "code",
   "execution_count": 3,
   "id": "128f2862",
   "metadata": {
    "execution": {
     "iopub.execute_input": "2022-06-02T22:19:51.007062Z",
     "iopub.status.busy": "2022-06-02T22:19:51.006266Z",
     "iopub.status.idle": "2022-06-02T22:19:51.015339Z",
     "shell.execute_reply": "2022-06-02T22:19:51.014645Z"
    },
    "papermill": {
     "duration": 0.019098,
     "end_time": "2022-06-02T22:19:51.016987",
     "exception": false,
     "start_time": "2022-06-02T22:19:50.997889",
     "status": "completed"
    },
    "tags": []
   },
   "outputs": [],
   "source": [
    "CFGS = {\n",
    "    'swin_tiny_224' : dict(input_size=(224, 224), window_size=7,  embed_dim=96,  \n",
    "                           depths=[2, 2, 6, 2],  num_heads=[3, 6, 12, 24]),\n",
    "    \n",
    "    'swin_small_224': dict(input_size=(224, 224), window_size=7,  embed_dim=96,  \n",
    "                           depths=[2, 2, 18, 2], num_heads=[3, 6, 12, 24]),\n",
    "    \n",
    "    'swin_base_224' : dict(input_size=(224, 224), window_size=7,  embed_dim=128, \n",
    "                           depths=[2, 2, 18, 2], num_heads=[4, 8, 16, 32]),\n",
    "    \n",
    "    'swin_base_384' : dict(input_size=(384, 384), window_size=12, embed_dim=128, \n",
    "                           depths=[2, 2, 18, 2], num_heads=[4, 8, 16, 32]),\n",
    "    \n",
    "    'swin_large_224': dict(input_size=(224, 224), window_size=7,  embed_dim=192, \n",
    "                           depths=[2, 2, 18, 2], num_heads=[6, 12, 24, 48]),\n",
    "    \n",
    "    'swin_large_384': dict(input_size=(384, 384), window_size=12, embed_dim=192, \n",
    "                           depths=[2, 2, 18, 2], num_heads=[6, 12, 24, 48])\n",
    "}"
   ]
  },
  {
   "cell_type": "markdown",
   "id": "0d7c8f97",
   "metadata": {
    "papermill": {
     "duration": 0.007146,
     "end_time": "2022-06-02T22:19:51.031459",
     "exception": false,
     "start_time": "2022-06-02T22:19:51.024313",
     "status": "completed"
    },
    "tags": []
   },
   "source": [
    "**TPU / GPU Config**"
   ]
  },
  {
   "cell_type": "code",
   "execution_count": 4,
   "id": "6f7583c5",
   "metadata": {
    "_kg_hide-input": false,
    "_kg_hide-output": false,
    "execution": {
     "iopub.execute_input": "2022-06-02T22:19:51.047606Z",
     "iopub.status.busy": "2022-06-02T22:19:51.047149Z",
     "iopub.status.idle": "2022-06-02T22:19:51.063498Z",
     "shell.execute_reply": "2022-06-02T22:19:51.062592Z"
    },
    "papermill": {
     "duration": 0.026472,
     "end_time": "2022-06-02T22:19:51.065200",
     "exception": false,
     "start_time": "2022-06-02T22:19:51.038728",
     "status": "completed"
    },
    "tags": []
   },
   "outputs": [
    {
     "name": "stdout",
     "output_type": "stream",
     "text": [
      "Using default strategy for CPU and single GPU\n",
      "Num GPUs Available:  1\n",
      "REPLICAS: 1\n"
     ]
    }
   ],
   "source": [
    "# set 'TPU' for train + enable internet.\n",
    "DEVICE = 'GPU' \n",
    "\n",
    "if DEVICE == \"TPU\":\n",
    "    print(\"connecting to TPU...\")\n",
    "    try:\n",
    "        tpu = tf.distribute.cluster_resolver.TPUClusterResolver()\n",
    "        print('Running on TPU ', tpu.master())\n",
    "    except ValueError:\n",
    "        print(\"Could not connect to TPU\")\n",
    "        tpu = None\n",
    "\n",
    "    if tpu:\n",
    "        # ISSUE: PERFORMANCE PENALTY, BE AWARE!!!\n",
    "        tf.config.set_soft_device_placement(True) \n",
    "        \n",
    "        try:\n",
    "            print(\"initializing  TPU ...\")\n",
    "            tf.config.experimental_connect_to_cluster(tpu)\n",
    "            tf.tpu.experimental.initialize_tpu_system(tpu)\n",
    "            strategy = tf.distribute.experimental.TPUStrategy(tpu)\n",
    "            print(\"TPU initialized\")\n",
    "        except _:\n",
    "            print(\"failed to initialize TPU\")\n",
    "    else:\n",
    "        DEVICE = \"GPU\"\n",
    "\n",
    "if DEVICE != \"TPU\":\n",
    "    print(\"Using default strategy for CPU and single GPU\")\n",
    "    strategy = tf.distribute.get_strategy()\n",
    "\n",
    "if DEVICE == \"GPU\":\n",
    "    print(\"Num GPUs Available: \", \n",
    "          len(tf.config.experimental.list_physical_devices('GPU')))\n",
    "    \n",
    "AUTO     = tf.data.AUTOTUNE\n",
    "REPLICAS = strategy.num_replicas_in_sync\n",
    "print(f'REPLICAS: {REPLICAS}')"
   ]
  },
  {
   "cell_type": "code",
   "execution_count": 5,
   "id": "40170068",
   "metadata": {
    "execution": {
     "iopub.execute_input": "2022-06-02T22:19:51.081153Z",
     "iopub.status.busy": "2022-06-02T22:19:51.080559Z",
     "iopub.status.idle": "2022-06-02T22:19:51.086298Z",
     "shell.execute_reply": "2022-06-02T22:19:51.085588Z"
    },
    "papermill": {
     "duration": 0.015441,
     "end_time": "2022-06-02T22:19:51.087930",
     "exception": false,
     "start_time": "2022-06-02T22:19:51.072489",
     "status": "completed"
    },
    "tags": []
   },
   "outputs": [],
   "source": [
    "Q = 30\n",
    "IMG_SIZE   = 896\n",
    "BATCH_SIZE = 12\n",
    "CHANNELS   = 3\n",
    "\n",
    "EPOCHS = 30\n",
    "FOLDS  = 10\n",
    "SEED   = 987\n",
    "\n",
    "VERBOSE = 1\n",
    "LR      = 0.000005\n",
    "\n",
    "FEATURE_FOLDS = 10\n",
    "\n",
    "if DEVICE == \"TPU\":\n",
    "    from kaggle_datasets import KaggleDatasets\n",
    "    DATA_DIR = '/kaggle/input/petfinder-pawpularity-score/'\n",
    "    GCS_PATH  = KaggleDatasets().get_gcs_path('petfinder-pawpularity-score')\n",
    "    TRAIN_DIR = GCS_PATH + '/train/'\n",
    "    TEST_DIR  = GCS_PATH + '/test/'\n",
    "    FEATURE_TRAIN = True \n",
    "else:\n",
    "    DATA_DIR  = '/kaggle/input/petfinder-pawpularity-score/'\n",
    "    TRAIN_DIR = DATA_DIR + 'train/'\n",
    "    TEST_DIR  = DATA_DIR + 'test/'\n",
    "    FEATURE_TRAIN = False"
   ]
  },
  {
   "cell_type": "code",
   "execution_count": 6,
   "id": "1d2f99d1",
   "metadata": {
    "_kg_hide-input": false,
    "execution": {
     "iopub.execute_input": "2022-06-02T22:19:51.104109Z",
     "iopub.status.busy": "2022-06-02T22:19:51.103590Z",
     "iopub.status.idle": "2022-06-02T22:19:51.173186Z",
     "shell.execute_reply": "2022-06-02T22:19:51.172399Z"
    },
    "papermill": {
     "duration": 0.07972,
     "end_time": "2022-06-02T22:19:51.175281",
     "exception": false,
     "start_time": "2022-06-02T22:19:51.095561",
     "status": "completed"
    },
    "tags": []
   },
   "outputs": [
    {
     "name": "stdout",
     "output_type": "stream",
     "text": [
      "train_df: (9912, 16)\n"
     ]
    },
    {
     "data": {
      "text/html": [
       "<div>\n",
       "<style scoped>\n",
       "    .dataframe tbody tr th:only-of-type {\n",
       "        vertical-align: middle;\n",
       "    }\n",
       "\n",
       "    .dataframe tbody tr th {\n",
       "        vertical-align: top;\n",
       "    }\n",
       "\n",
       "    .dataframe thead th {\n",
       "        text-align: right;\n",
       "    }\n",
       "</style>\n",
       "<table border=\"1\" class=\"dataframe\">\n",
       "  <thead>\n",
       "    <tr style=\"text-align: right;\">\n",
       "      <th></th>\n",
       "      <th>Id</th>\n",
       "      <th>Subject Focus</th>\n",
       "      <th>Eyes</th>\n",
       "      <th>Face</th>\n",
       "      <th>Near</th>\n",
       "      <th>Action</th>\n",
       "      <th>Accessory</th>\n",
       "      <th>Group</th>\n",
       "      <th>Collage</th>\n",
       "      <th>Human</th>\n",
       "      <th>Occlusion</th>\n",
       "      <th>Info</th>\n",
       "      <th>Blur</th>\n",
       "      <th>Pawpularity</th>\n",
       "      <th>stratify_label</th>\n",
       "      <th>target_value</th>\n",
       "    </tr>\n",
       "  </thead>\n",
       "  <tbody>\n",
       "    <tr>\n",
       "      <th>0</th>\n",
       "      <td>/kaggle/input/petfinder-pawpularity-score/trai...</td>\n",
       "      <td>0</td>\n",
       "      <td>1</td>\n",
       "      <td>1</td>\n",
       "      <td>1</td>\n",
       "      <td>0</td>\n",
       "      <td>0</td>\n",
       "      <td>1</td>\n",
       "      <td>0</td>\n",
       "      <td>0</td>\n",
       "      <td>0</td>\n",
       "      <td>0</td>\n",
       "      <td>0</td>\n",
       "      <td>63</td>\n",
       "      <td>26</td>\n",
       "      <td>0.63</td>\n",
       "    </tr>\n",
       "    <tr>\n",
       "      <th>1</th>\n",
       "      <td>/kaggle/input/petfinder-pawpularity-score/trai...</td>\n",
       "      <td>0</td>\n",
       "      <td>1</td>\n",
       "      <td>1</td>\n",
       "      <td>0</td>\n",
       "      <td>0</td>\n",
       "      <td>0</td>\n",
       "      <td>0</td>\n",
       "      <td>0</td>\n",
       "      <td>0</td>\n",
       "      <td>0</td>\n",
       "      <td>0</td>\n",
       "      <td>0</td>\n",
       "      <td>42</td>\n",
       "      <td>20</td>\n",
       "      <td>0.42</td>\n",
       "    </tr>\n",
       "    <tr>\n",
       "      <th>2</th>\n",
       "      <td>/kaggle/input/petfinder-pawpularity-score/trai...</td>\n",
       "      <td>0</td>\n",
       "      <td>1</td>\n",
       "      <td>1</td>\n",
       "      <td>1</td>\n",
       "      <td>0</td>\n",
       "      <td>0</td>\n",
       "      <td>0</td>\n",
       "      <td>0</td>\n",
       "      <td>1</td>\n",
       "      <td>1</td>\n",
       "      <td>0</td>\n",
       "      <td>0</td>\n",
       "      <td>28</td>\n",
       "      <td>9</td>\n",
       "      <td>0.28</td>\n",
       "    </tr>\n",
       "    <tr>\n",
       "      <th>3</th>\n",
       "      <td>/kaggle/input/petfinder-pawpularity-score/trai...</td>\n",
       "      <td>0</td>\n",
       "      <td>1</td>\n",
       "      <td>1</td>\n",
       "      <td>1</td>\n",
       "      <td>0</td>\n",
       "      <td>0</td>\n",
       "      <td>0</td>\n",
       "      <td>0</td>\n",
       "      <td>0</td>\n",
       "      <td>0</td>\n",
       "      <td>0</td>\n",
       "      <td>0</td>\n",
       "      <td>15</td>\n",
       "      <td>2</td>\n",
       "      <td>0.15</td>\n",
       "    </tr>\n",
       "    <tr>\n",
       "      <th>4</th>\n",
       "      <td>/kaggle/input/petfinder-pawpularity-score/trai...</td>\n",
       "      <td>0</td>\n",
       "      <td>0</td>\n",
       "      <td>0</td>\n",
       "      <td>1</td>\n",
       "      <td>0</td>\n",
       "      <td>0</td>\n",
       "      <td>1</td>\n",
       "      <td>0</td>\n",
       "      <td>0</td>\n",
       "      <td>0</td>\n",
       "      <td>0</td>\n",
       "      <td>0</td>\n",
       "      <td>72</td>\n",
       "      <td>27</td>\n",
       "      <td>0.72</td>\n",
       "    </tr>\n",
       "  </tbody>\n",
       "</table>\n",
       "</div>"
      ],
      "text/plain": [
       "                                                  Id  Subject Focus  Eyes  \\\n",
       "0  /kaggle/input/petfinder-pawpularity-score/trai...              0     1   \n",
       "1  /kaggle/input/petfinder-pawpularity-score/trai...              0     1   \n",
       "2  /kaggle/input/petfinder-pawpularity-score/trai...              0     1   \n",
       "3  /kaggle/input/petfinder-pawpularity-score/trai...              0     1   \n",
       "4  /kaggle/input/petfinder-pawpularity-score/trai...              0     0   \n",
       "\n",
       "   Face  Near  Action  Accessory  Group  Collage  Human  Occlusion  Info  \\\n",
       "0     1     1       0          0      1        0      0          0     0   \n",
       "1     1     0       0          0      0        0      0          0     0   \n",
       "2     1     1       0          0      0        0      1          1     0   \n",
       "3     1     1       0          0      0        0      0          0     0   \n",
       "4     0     1       0          0      1        0      0          0     0   \n",
       "\n",
       "   Blur  Pawpularity stratify_label  target_value  \n",
       "0     0           63             26          0.63  \n",
       "1     0           42             20          0.42  \n",
       "2     0           28              9          0.28  \n",
       "3     0           15              2          0.15  \n",
       "4     0           72             27          0.72  "
      ]
     },
     "execution_count": 6,
     "metadata": {},
     "output_type": "execute_result"
    }
   ],
   "source": [
    "def seed_all(s):\n",
    "    random.seed(s)\n",
    "    np.random.seed(s)\n",
    "    tf.random.set_seed(s)\n",
    "    os.environ['TF_CUDNN_DETERMINISTIC'] = '1'\n",
    "    os.environ['PYTHONHASHSEED'] = str(s) \n",
    "    \n",
    "seed_all(SEED)\n",
    "\n",
    "# Load Train Data\n",
    "train_df = pd.read_csv(f'{DATA_DIR}train.csv')\n",
    "train_df['Id'] = train_df['Id'].apply(lambda x: f'{TRAIN_DIR}{x}.jpg')\n",
    "\n",
    "# Set a specific label to be able to perform stratification\n",
    "# train_df.Pawpularity.max(), train_df.Pawpularity.min() <- (100, 1)\n",
    "train_df['stratify_label'] = pd.qcut(train_df['Pawpularity'], q = Q, labels = range(Q))\n",
    "\n",
    "# Label value to be used for feature model 'classification' training.\n",
    "train_df['target_value'] = train_df['Pawpularity'] / 100. # normalizing \n",
    "\n",
    "# Summary\n",
    "print(f'train_df: {train_df.shape}')\n",
    "train_df.head()"
   ]
  },
  {
   "cell_type": "code",
   "execution_count": 7,
   "id": "9b7a264d",
   "metadata": {
    "_kg_hide-input": false,
    "_kg_hide-output": false,
    "execution": {
     "iopub.execute_input": "2022-06-02T22:19:51.192620Z",
     "iopub.status.busy": "2022-06-02T22:19:51.192110Z",
     "iopub.status.idle": "2022-06-02T22:19:51.211709Z",
     "shell.execute_reply": "2022-06-02T22:19:51.210522Z"
    },
    "papermill": {
     "duration": 0.0306,
     "end_time": "2022-06-02T22:19:51.214044",
     "exception": false,
     "start_time": "2022-06-02T22:19:51.183444",
     "status": "completed"
    },
    "tags": []
   },
   "outputs": [
    {
     "name": "stdout",
     "output_type": "stream",
     "text": [
      "test_df: (8, 14)\n"
     ]
    },
    {
     "data": {
      "text/html": [
       "<div>\n",
       "<style scoped>\n",
       "    .dataframe tbody tr th:only-of-type {\n",
       "        vertical-align: middle;\n",
       "    }\n",
       "\n",
       "    .dataframe tbody tr th {\n",
       "        vertical-align: top;\n",
       "    }\n",
       "\n",
       "    .dataframe thead th {\n",
       "        text-align: right;\n",
       "    }\n",
       "</style>\n",
       "<table border=\"1\" class=\"dataframe\">\n",
       "  <thead>\n",
       "    <tr style=\"text-align: right;\">\n",
       "      <th></th>\n",
       "      <th>Id</th>\n",
       "      <th>Subject Focus</th>\n",
       "      <th>Eyes</th>\n",
       "      <th>Face</th>\n",
       "      <th>Near</th>\n",
       "      <th>Action</th>\n",
       "      <th>Accessory</th>\n",
       "      <th>Group</th>\n",
       "      <th>Collage</th>\n",
       "      <th>Human</th>\n",
       "      <th>Occlusion</th>\n",
       "      <th>Info</th>\n",
       "      <th>Blur</th>\n",
       "      <th>Pawpularity</th>\n",
       "    </tr>\n",
       "  </thead>\n",
       "  <tbody>\n",
       "    <tr>\n",
       "      <th>0</th>\n",
       "      <td>/kaggle/input/petfinder-pawpularity-score/test...</td>\n",
       "      <td>1</td>\n",
       "      <td>0</td>\n",
       "      <td>1</td>\n",
       "      <td>0</td>\n",
       "      <td>0</td>\n",
       "      <td>1</td>\n",
       "      <td>1</td>\n",
       "      <td>0</td>\n",
       "      <td>0</td>\n",
       "      <td>1</td>\n",
       "      <td>0</td>\n",
       "      <td>1</td>\n",
       "      <td>0</td>\n",
       "    </tr>\n",
       "    <tr>\n",
       "      <th>1</th>\n",
       "      <td>/kaggle/input/petfinder-pawpularity-score/test...</td>\n",
       "      <td>0</td>\n",
       "      <td>1</td>\n",
       "      <td>0</td>\n",
       "      <td>0</td>\n",
       "      <td>0</td>\n",
       "      <td>0</td>\n",
       "      <td>1</td>\n",
       "      <td>1</td>\n",
       "      <td>0</td>\n",
       "      <td>0</td>\n",
       "      <td>0</td>\n",
       "      <td>0</td>\n",
       "      <td>0</td>\n",
       "    </tr>\n",
       "    <tr>\n",
       "      <th>2</th>\n",
       "      <td>/kaggle/input/petfinder-pawpularity-score/test...</td>\n",
       "      <td>0</td>\n",
       "      <td>0</td>\n",
       "      <td>0</td>\n",
       "      <td>1</td>\n",
       "      <td>0</td>\n",
       "      <td>1</td>\n",
       "      <td>1</td>\n",
       "      <td>1</td>\n",
       "      <td>0</td>\n",
       "      <td>1</td>\n",
       "      <td>1</td>\n",
       "      <td>1</td>\n",
       "      <td>0</td>\n",
       "    </tr>\n",
       "    <tr>\n",
       "      <th>3</th>\n",
       "      <td>/kaggle/input/petfinder-pawpularity-score/test...</td>\n",
       "      <td>1</td>\n",
       "      <td>0</td>\n",
       "      <td>1</td>\n",
       "      <td>0</td>\n",
       "      <td>0</td>\n",
       "      <td>0</td>\n",
       "      <td>0</td>\n",
       "      <td>0</td>\n",
       "      <td>0</td>\n",
       "      <td>0</td>\n",
       "      <td>1</td>\n",
       "      <td>0</td>\n",
       "      <td>0</td>\n",
       "    </tr>\n",
       "    <tr>\n",
       "      <th>4</th>\n",
       "      <td>/kaggle/input/petfinder-pawpularity-score/test...</td>\n",
       "      <td>1</td>\n",
       "      <td>1</td>\n",
       "      <td>1</td>\n",
       "      <td>0</td>\n",
       "      <td>1</td>\n",
       "      <td>1</td>\n",
       "      <td>0</td>\n",
       "      <td>1</td>\n",
       "      <td>0</td>\n",
       "      <td>1</td>\n",
       "      <td>1</td>\n",
       "      <td>0</td>\n",
       "      <td>0</td>\n",
       "    </tr>\n",
       "  </tbody>\n",
       "</table>\n",
       "</div>"
      ],
      "text/plain": [
       "                                                  Id  Subject Focus  Eyes  \\\n",
       "0  /kaggle/input/petfinder-pawpularity-score/test...              1     0   \n",
       "1  /kaggle/input/petfinder-pawpularity-score/test...              0     1   \n",
       "2  /kaggle/input/petfinder-pawpularity-score/test...              0     0   \n",
       "3  /kaggle/input/petfinder-pawpularity-score/test...              1     0   \n",
       "4  /kaggle/input/petfinder-pawpularity-score/test...              1     1   \n",
       "\n",
       "   Face  Near  Action  Accessory  Group  Collage  Human  Occlusion  Info  \\\n",
       "0     1     0       0          1      1        0      0          1     0   \n",
       "1     0     0       0          0      1        1      0          0     0   \n",
       "2     0     1       0          1      1        1      0          1     1   \n",
       "3     1     0       0          0      0        0      0          0     1   \n",
       "4     1     0       1          1      0        1      0          1     1   \n",
       "\n",
       "   Blur  Pawpularity  \n",
       "0     1            0  \n",
       "1     0            0  \n",
       "2     1            0  \n",
       "3     0            0  \n",
       "4     0            0  "
      ]
     },
     "execution_count": 7,
     "metadata": {},
     "output_type": "execute_result"
    }
   ],
   "source": [
    "# Load Test Data\n",
    "test_df = pd.read_csv(f'{DATA_DIR}test.csv')\n",
    "test_df['Id'] = test_df['Id'].apply(lambda x: f'{TEST_DIR}{x}.jpg')\n",
    "test_df['Pawpularity'] = 0\n",
    "\n",
    "# Summary\n",
    "print(f'test_df: {test_df.shape}')\n",
    "test_df.head()"
   ]
  },
  {
   "cell_type": "markdown",
   "id": "b6e258d9",
   "metadata": {
    "papermill": {
     "duration": 0.008004,
     "end_time": "2022-06-02T22:19:51.230627",
     "exception": false,
     "start_time": "2022-06-02T22:19:51.222623",
     "status": "completed"
    },
    "tags": []
   },
   "source": [
    "# TF Dataset"
   ]
  },
  {
   "cell_type": "code",
   "execution_count": 8,
   "id": "529d6d14",
   "metadata": {
    "execution": {
     "iopub.execute_input": "2022-06-02T22:19:51.247926Z",
     "iopub.status.busy": "2022-06-02T22:19:51.247649Z",
     "iopub.status.idle": "2022-06-02T22:19:51.259932Z",
     "shell.execute_reply": "2022-06-02T22:19:51.259250Z"
    },
    "papermill": {
     "duration": 0.022743,
     "end_time": "2022-06-02T22:19:51.261488",
     "exception": false,
     "start_time": "2022-06-02T22:19:51.238745",
     "status": "completed"
    },
    "tags": []
   },
   "outputs": [],
   "source": [
    "# SetAutoTune\n",
    "AUTOTUNE = tf.data.AUTOTUNE  \n",
    "\n",
    "def build_augmenter(is_labelled):\n",
    "    def augment(img):\n",
    "        img = tf.image.random_flip_left_right(img)\n",
    "        img = tf.image.random_flip_up_down(img)\n",
    "        img = tf.image.random_saturation(img, 0.95, 1.05)\n",
    "        img = tf.image.random_brightness(img, 0.05)\n",
    "        img = tf.image.random_contrast(img, 0.95, 1.05)\n",
    "        img = tf.image.random_hue(img, 0.05)\n",
    "        return img\n",
    "    def augment_with_labels(img, label):\n",
    "        return augment(img), label\n",
    "    return augment_with_labels if is_labelled else augment\n",
    "\n",
    "def build_decoder(is_labelled):\n",
    "    def decode(path):\n",
    "        file_bytes = tf.io.read_file(path)\n",
    "        img = tf.image.decode_jpeg(file_bytes, channels = CHANNELS)\n",
    "        img = tf.image.resize(img, (IMG_SIZE, IMG_SIZE))\n",
    "        return img\n",
    "    def decode_with_labels(path, label):\n",
    "        return decode(path), label\n",
    "    return decode_with_labels if is_labelled else decode\n",
    "\n",
    "def create_dataset(df, \n",
    "                   batch_size     = 32, \n",
    "                   is_labelled    = False, \n",
    "                   augment        = False, \n",
    "                   repeat         = False, \n",
    "                   shuffle        = False):\n",
    "    decode_fn    = build_decoder(is_labelled)\n",
    "    augmenter_fn = build_augmenter(is_labelled)\n",
    "    \n",
    "    # Create Dataset\n",
    "    if is_labelled:\n",
    "        dataset = tf.data.Dataset.from_tensor_slices((df['Id'].values, \n",
    "                                                      df['target_value'].values))\n",
    "    else:\n",
    "        dataset = tf.data.Dataset.from_tensor_slices((df['Id'].values))\n",
    "    dataset = dataset.map(decode_fn, num_parallel_calls=AUTOTUNE)\n",
    "    dataset = dataset.map(augmenter_fn, num_parallel_calls=AUTOTUNE) if augment else dataset\n",
    "    dataset = dataset.repeat() if repeat else dataset\n",
    "    dataset = dataset.shuffle(1024, reshuffle_each_iteration=True) if shuffle else dataset\n",
    "    dataset = dataset.batch(batch_size*REPLICAS, drop_remainder=FEATURE_TRAIN)\n",
    "    dataset = dataset.prefetch(AUTOTUNE)\n",
    "    return dataset"
   ]
  },
  {
   "cell_type": "markdown",
   "id": "c15ff222",
   "metadata": {
    "papermill": {
     "duration": 0.007939,
     "end_time": "2022-06-02T22:19:51.277373",
     "exception": false,
     "start_time": "2022-06-02T22:19:51.269434",
     "status": "completed"
    },
    "tags": []
   },
   "source": [
    "# Modeling\n",
    "![](https://i.imgur.com/2iXNuBA.png)\n",
    "\n",
    "\n",
    "### Change-Logs\n",
    "\n",
    "- **No Subcenter Arcface Head**\n",
    "- **EfficientNet B0 + Swin-Transformers**\n",
    "- **Modification: Please see the `Attention` note at the beginning.**"
   ]
  },
  {
   "cell_type": "markdown",
   "id": "91b3872b",
   "metadata": {
    "papermill": {
     "duration": 0.007738,
     "end_time": "2022-06-02T22:19:51.293148",
     "exception": false,
     "start_time": "2022-06-02T22:19:51.285410",
     "status": "completed"
    },
    "tags": []
   },
   "source": [
    "**Checking**"
   ]
  },
  {
   "cell_type": "code",
   "execution_count": 9,
   "id": "632c1820",
   "metadata": {
    "execution": {
     "iopub.execute_input": "2022-06-02T22:19:51.310332Z",
     "iopub.status.busy": "2022-06-02T22:19:51.310054Z",
     "iopub.status.idle": "2022-06-02T22:19:54.839656Z",
     "shell.execute_reply": "2022-06-02T22:19:54.838845Z"
    },
    "papermill": {
     "duration": 3.541732,
     "end_time": "2022-06-02T22:19:54.843006",
     "exception": false,
     "start_time": "2022-06-02T22:19:51.301274",
     "status": "completed"
    },
    "tags": []
   },
   "outputs": [
    {
     "name": "stdout",
     "output_type": "stream",
     "text": [
      "input_1 [(None, 896, 896, 3)]\n"
     ]
    }
   ],
   "source": [
    "from tensorflow.keras import applications\n",
    "\n",
    "check_base = applications.EfficientNetB0(\n",
    "    include_top=False,\n",
    "    weights=None,\n",
    "    input_tensor=keras.Input((896, 896, 3))\n",
    "    )\n",
    "\n",
    "for l in check_base.layers:\n",
    "    print(l.name, l.output_shape)\n",
    "    break\n",
    "    \n",
    "block2b_add = (None, 224, 224, 24)"
   ]
  },
  {
   "cell_type": "markdown",
   "id": "c151fd2f",
   "metadata": {
    "papermill": {
     "duration": 0.008118,
     "end_time": "2022-06-02T22:19:54.864053",
     "exception": false,
     "start_time": "2022-06-02T22:19:54.855935",
     "status": "completed"
    },
    "tags": []
   },
   "source": [
    "# Efficient Hybrid Swin-Transformer "
   ]
  },
  {
   "cell_type": "code",
   "execution_count": 10,
   "id": "6f19a280",
   "metadata": {
    "execution": {
     "iopub.execute_input": "2022-06-02T22:19:54.881565Z",
     "iopub.status.busy": "2022-06-02T22:19:54.881272Z",
     "iopub.status.idle": "2022-06-02T22:19:54.885823Z",
     "shell.execute_reply": "2022-06-02T22:19:54.885012Z"
    },
    "papermill": {
     "duration": 0.01521,
     "end_time": "2022-06-02T22:19:54.887428",
     "exception": false,
     "start_time": "2022-06-02T22:19:54.872218",
     "status": "completed"
    },
    "tags": []
   },
   "outputs": [],
   "source": [
    "EfficientNetWeightsPath = '../input/efficientnet-keras-noisystudent-weights-b0b7/'\n",
    "\n",
    "if DEVICE == \"TPU\": # TRUE for Training \n",
    "    efnet_wg = f\"{EfficientNetWeightsPath}noisystudent/noisy.student.notop-b0.h5\"\n",
    "    swins_wg = True\n",
    "    use_tpu  = True\n",
    "    \n",
    "else: # TRUE for Inference \n",
    "    efnet_wg = None\n",
    "    swins_wg = False\n",
    "    use_tpu  = False"
   ]
  },
  {
   "cell_type": "code",
   "execution_count": 11,
   "id": "8472283b",
   "metadata": {
    "execution": {
     "iopub.execute_input": "2022-06-02T22:19:54.904985Z",
     "iopub.status.busy": "2022-06-02T22:19:54.904691Z",
     "iopub.status.idle": "2022-06-02T22:19:54.916164Z",
     "shell.execute_reply": "2022-06-02T22:19:54.915417Z"
    },
    "papermill": {
     "duration": 0.022251,
     "end_time": "2022-06-02T22:19:54.917862",
     "exception": false,
     "start_time": "2022-06-02T22:19:54.895611",
     "status": "completed"
    },
    "tags": []
   },
   "outputs": [],
   "source": [
    "class EfficientHybridSwinTransformer(keras.Model):\n",
    "    def __init__(self):\n",
    "        super(EfficientHybridSwinTransformer, self).__init__()\n",
    "        # base models \n",
    "        self.inputx = keras.Input((IMG_SIZE, IMG_SIZE, CHANNELS), name='input_hybrids')\n",
    "        base = applications.EfficientNetB0(\n",
    "            include_top  = False,\n",
    "            weights      = efnet_wg,\n",
    "            input_tensor = self.inputx\n",
    "        )\n",
    "        for layer in base.layers:\n",
    "            if not isinstance(layer, tf.keras.layers.BatchNormalization):\n",
    "                layer.trainable = True\n",
    "            else:\n",
    "                layer.trainable = False\n",
    "\n",
    "        # base model with compatible output which will be an input of transformer model \n",
    "        self.new_base = keras.Model(\n",
    "            [base.inputs], \n",
    "            [base.get_layer('block2b_add').output, base.output], # output with 224 feat_maps\n",
    "            name='efficientnet'\n",
    "        )\n",
    "        self.conv = keras.layers.Conv2D(3, 3, padding='same')\n",
    "        self.swin_blocks = SwinTransformer('swin_large_224', \n",
    "                                           num_classes=1, \n",
    "                                           include_top=False, \n",
    "                                           pretrained=swins_wg, \n",
    "                                           use_tpu=use_tpu, \n",
    "                                           cfgs=CFGS)\n",
    "        self.fc = keras.layers.Dense(1, activation = 'sigmoid')\n",
    "\n",
    "    # calling \n",
    "    def call(self, inputs, training=None, **kwargs):\n",
    "        base_x, base_y = self.new_base(inputs)\n",
    "        from_swin = self.swin_blocks(self.conv(base_x))\n",
    "        cating = tf.concat([from_swin, \n",
    "                            keras.layers.GlobalAveragePooling2D()(base_y)], axis=-1)\n",
    "        if training:\n",
    "            return self.fc(cating)\n",
    "        else:\n",
    "            return self.fc(cating), cating # need cating o/p in inference time. \n",
    "\n",
    "    def build_graph(self):\n",
    "        x = keras.Input(shape=(IMG_SIZE, IMG_SIZE, CHANNELS))\n",
    "        return keras.Model(inputs=[x], outputs=self.call(x))"
   ]
  },
  {
   "cell_type": "code",
   "execution_count": 12,
   "id": "5d897424",
   "metadata": {
    "execution": {
     "iopub.execute_input": "2022-06-02T22:19:54.935584Z",
     "iopub.status.busy": "2022-06-02T22:19:54.935164Z",
     "iopub.status.idle": "2022-06-02T22:20:16.849861Z",
     "shell.execute_reply": "2022-06-02T22:20:16.847705Z"
    },
    "papermill": {
     "duration": 21.92637,
     "end_time": "2022-06-02T22:20:16.852434",
     "exception": false,
     "start_time": "2022-06-02T22:19:54.926064",
     "status": "completed"
    },
    "tags": []
   },
   "outputs": [
    {
     "name": "stdout",
     "output_type": "stream",
     "text": [
      "(1, 1)\n"
     ]
    },
    {
     "data": {
      "image/png": "[encoded data removed]",
      "text/plain": [
       "<IPython.core.display.Image object>"
      ]
     },
     "metadata": {},
     "output_type": "display_data"
    },
    {
     "name": "stdout",
     "output_type": "stream",
     "text": [
      "(1, 1)\n",
      "Model: \"efficient_hybrid_swin_transformer\"\n",
      "_________________________________________________________________\n",
      "Layer (type)                 Output Shape              Param #   \n",
      "=================================================================\n",
      "efficientnet (Functional)    [(None, 224, 224, 24), (N 4049571   \n",
      "_________________________________________________________________\n",
      "conv2d (Conv2D)              (None, 224, 224, 3)       651       \n",
      "_________________________________________________________________\n",
      "swin_large_224 (SwinTransfor (None, 1536)              195331616 \n",
      "_________________________________________________________________\n",
      "dense (Dense)                (None, 1)                 2817      \n",
      "=================================================================\n",
      "Total params: 199,384,655\n",
      "Trainable params: 198,964,476\n",
      "Non-trainable params: 420,179\n",
      "_________________________________________________________________\n",
      "None\n"
     ]
    }
   ],
   "source": [
    "def get_model(plot_model, print_summary, with_compile):\n",
    "    model = EfficientHybridSwinTransformer()\n",
    "\n",
    "    if plot_model:\n",
    "        print(model(tf.ones((1, IMG_SIZE, IMG_SIZE, CHANNELS)))[0].shape)\n",
    "        display(keras.utils.plot_model(model.build_graph(), \n",
    "                                          show_shapes=True, \n",
    "                                          show_layer_names=True,\n",
    "                                          expand_nested=False))\n",
    "    if print_summary:\n",
    "        print(model(tf.ones((1, IMG_SIZE, IMG_SIZE, CHANNELS)))[0].shape)\n",
    "        print(model.summary())\n",
    "        \n",
    "    if with_compile:\n",
    "        print(model(tf.ones((1, IMG_SIZE, IMG_SIZE, CHANNELS)))[0].shape)\n",
    "        model.compile(\n",
    "            optimizer = keras.optimizers.Adam(learning_rate = LR), \n",
    "            loss = keras.losses.BinaryCrossentropy(), \n",
    "            metrics = [keras.metrics.RootMeanSquaredError('rmse')])  \n",
    "        \n",
    "    return model \n",
    "\n",
    "model = get_model(plot_model    = True,\n",
    "                  print_summary = True, \n",
    "                  with_compile  = False)"
   ]
  },
  {
   "cell_type": "markdown",
   "id": "35e1df74",
   "metadata": {
    "papermill": {
     "duration": 0.009435,
     "end_time": "2022-06-02T22:20:16.872416",
     "exception": false,
     "start_time": "2022-06-02T22:20:16.862981",
     "status": "completed"
    },
    "tags": []
   },
   "source": [
    "# Train: Feature Extractor : Hybrid Swin Transformer"
   ]
  },
  {
   "cell_type": "code",
   "execution_count": 13,
   "id": "4cae608f",
   "metadata": {
    "execution": {
     "iopub.execute_input": "2022-06-02T22:20:16.893456Z",
     "iopub.status.busy": "2022-06-02T22:20:16.893085Z",
     "iopub.status.idle": "2022-06-02T22:20:16.901196Z",
     "shell.execute_reply": "2022-06-02T22:20:16.900381Z"
    },
    "papermill": {
     "duration": 0.02063,
     "end_time": "2022-06-02T22:20:16.902996",
     "exception": false,
     "start_time": "2022-06-02T22:20:16.882366",
     "status": "completed"
    },
    "tags": []
   },
   "outputs": [],
   "source": [
    "def get_lr_callback(batch_size=8):\n",
    "    lr_start   = 0.000005\n",
    "    lr_max     = 0.00000125 * batch_size * REPLICAS\n",
    "    lr_min     = 0.000001\n",
    "    lr_ramp_ep = 5\n",
    "    lr_sus_ep  = 0\n",
    "    lr_decay   = 0.8\n",
    "    def lrfn(epoch):\n",
    "        if epoch < lr_ramp_ep:\n",
    "            lr = (lr_max - lr_start) / lr_ramp_ep * epoch + lr_start\n",
    "        elif epoch < lr_ramp_ep + lr_sus_ep:\n",
    "            lr = lr_max\n",
    "        else:\n",
    "            lr = (lr_max - lr_min) * lr_decay**(epoch - lr_ramp_ep - lr_sus_ep) + lr_min\n",
    "        return lr\n",
    "    return keras.callbacks.LearningRateScheduler(lrfn, verbose=True)\n",
    "\n",
    "\n",
    "# Set Callbacks\n",
    "def model_checkpoint(fold):\n",
    "    return keras.callbacks.ModelCheckpoint(f'feature_models_{fold}.h5',\n",
    "                                           verbose = 1, \n",
    "                                           monitor = 'val_rmse', \n",
    "                                           mode    = 'min', \n",
    "                                           save_weights_only = True,\n",
    "                                           save_best_only    = True)"
   ]
  },
  {
   "cell_type": "markdown",
   "id": "91e337e0",
   "metadata": {
    "papermill": {
     "duration": 0.009389,
     "end_time": "2022-06-02T22:20:16.922047",
     "exception": false,
     "start_time": "2022-06-02T22:20:16.912658",
     "status": "completed"
    },
    "tags": []
   },
   "source": [
    "## Note\n",
    "\n",
    "As we already train the hybrid model in **TPU**, that's why here we skip the training part on tpu. That's why we set, `FEATURE_TRAIN == FALSE`."
   ]
  },
  {
   "cell_type": "code",
   "execution_count": 14,
   "id": "ba6167dc",
   "metadata": {
    "execution": {
     "iopub.execute_input": "2022-06-02T22:20:16.942933Z",
     "iopub.status.busy": "2022-06-02T22:20:16.942559Z",
     "iopub.status.idle": "2022-06-02T22:20:16.953504Z",
     "shell.execute_reply": "2022-06-02T22:20:16.952641Z"
    },
    "papermill": {
     "duration": 0.023594,
     "end_time": "2022-06-02T22:20:16.955177",
     "exception": false,
     "start_time": "2022-06-02T22:20:16.931583",
     "status": "completed"
    },
    "tags": []
   },
   "outputs": [],
   "source": [
    "if FEATURE_TRAIN: # TRUE if DEVICE == TPU \n",
    "    # OOF RMSE Placeholder\n",
    "    all_val_rmse = []\n",
    "\n",
    "    # Stratified Training\n",
    "    kfold = StratifiedKFold(n_splits = FEATURE_FOLDS, \n",
    "                            shuffle = True, random_state = SEED)\n",
    "\n",
    "    for fold, (train_index, val_index) in enumerate(kfold.split(train_df.index,\n",
    "                                                                train_df['stratify_label'])):\n",
    "        if fold == 0: # Train on fold sequentially. 0,1,2,3,4,....FEATURE_FOLDS\n",
    "            print(f'\\nFold {fold}\\n')\n",
    "            # Pre model.fit cleanup\n",
    "            tf.keras.backend.clear_session()\n",
    "            gc.collect()\n",
    "\n",
    "            # Create Model\n",
    "            with strategy.scope():\n",
    "                model = get_model(plot_model=False, print_summary=False, with_compile=True)\n",
    "\n",
    "            # Create TF Datasets\n",
    "            trn = train_df.iloc[train_index]\n",
    "            val = train_df.iloc[val_index]\n",
    "            training_dataset = create_dataset(trn, \n",
    "                                              batch_size  = BATCH_SIZE, \n",
    "                                              is_labelled = True, \n",
    "                                              augment     = True, \n",
    "                                              repeat      = True, \n",
    "                                              shuffle     = True)\n",
    "            validation_dataset = create_dataset(val, \n",
    "                                                batch_size  = BATCH_SIZE, \n",
    "                                                is_labelled = True,\n",
    "                                                augment     = False, \n",
    "                                                repeat      = True, \n",
    "                                                shuffle     = False)\n",
    "\n",
    "            # Fit Model\n",
    "            history = model.fit(training_dataset,\n",
    "                                epochs = EPOCHS,\n",
    "                                steps_per_epoch  = trn.shape[0] / BATCH_SIZE // REPLICAS,\n",
    "                                validation_steps = val.shape[0] / BATCH_SIZE // REPLICAS,\n",
    "                                callbacks = [model_checkpoint(fold), get_lr_callback(BATCH_SIZE)],\n",
    "                                validation_data = validation_dataset,\n",
    "                                verbose = 1)   \n",
    "\n",
    "            # Validation Information\n",
    "            best_val_rmse = min(history.history['val_rmse'])\n",
    "            all_val_rmse.append(best_val_rmse)\n",
    "            print(f'\\nValidation RMSE: {best_val_rmse}\\n')\n",
    "\n",
    "    # Summary\n",
    "    print(f'Final Mean RMSE for {FEATURE_FOLDS} Fold CV Training: {np.mean(all_val_rmse)}')"
   ]
  },
  {
   "cell_type": "markdown",
   "id": "d7b8bfc2",
   "metadata": {
    "execution": {
     "iopub.execute_input": "2022-01-12T20:58:16.152804Z",
     "iopub.status.busy": "2022-01-12T20:58:16.15254Z",
     "iopub.status.idle": "2022-01-12T20:58:16.159686Z",
     "shell.execute_reply": "2022-01-12T20:58:16.158504Z",
     "shell.execute_reply.started": "2022-01-12T20:58:16.152774Z"
    },
    "papermill": {
     "duration": 0.009621,
     "end_time": "2022-06-02T22:20:16.974340",
     "exception": false,
     "start_time": "2022-06-02T22:20:16.964719",
     "status": "completed"
    },
    "tags": []
   },
   "source": [
    "# CatBoost 10 Fold CV Training + Ensemble Inference\n",
    "\n",
    "Here, we use `CatBoost` but we can also try [RAPIDS SVR](https://www.kaggle.com/cdeotte/rapids-svr-boost-17-8). However, here is the workflow:\n",
    "\n",
    "- We take Image Model embeddings and use it to `CatBoost` model.\n",
    "- Again, we trained `10` fold of the Image Model, so that gives `10` weights. So next, we will average these Image Models.\n",
    "- After that, we will do another `10` fold for the `CatBost` mdoel. \n",
    "\n",
    "If you're confuse somehow about **why swin transformer** and **why now catboost model**, then please see the below diagram for clarification. In the first stage we used hybrid swin transformer and trained this model as classification model. And after training, we want to extract the feature of the image by this trained model (from stage 1) and use these features as a input for next stage training. In the next stage training, we use catboost model and will train it with regression loss function (RMSE). \n",
    "\n",
    "![Presentation1](https://user-images.githubusercontent.com/17668390/149220379-e91edde9-3d71-4d11-bb09-4679de292c67.png)"
   ]
  },
  {
   "cell_type": "code",
   "execution_count": 15,
   "id": "6f9cec05",
   "metadata": {
    "execution": {
     "iopub.execute_input": "2022-06-02T22:20:16.995510Z",
     "iopub.status.busy": "2022-06-02T22:20:16.994630Z",
     "iopub.status.idle": "2022-06-02T22:20:17.000379Z",
     "shell.execute_reply": "2022-06-02T22:20:16.999580Z"
    },
    "papermill": {
     "duration": 0.018174,
     "end_time": "2022-06-02T22:20:17.002091",
     "exception": false,
     "start_time": "2022-06-02T22:20:16.983917",
     "status": "completed"
    },
    "tags": []
   },
   "outputs": [],
   "source": [
    "# Placeholders\n",
    "preds_final   = np.zeros((test_df.shape[0], 1))\n",
    "all_oof_score = []\n",
    "\n",
    "# Stratification and Label values\n",
    "Y_strat = train_df['stratify_label'].values\n",
    "Y_pawpularity = train_df['Pawpularity'].values"
   ]
  },
  {
   "cell_type": "markdown",
   "id": "cb352d49",
   "metadata": {
    "papermill": {
     "duration": 0.009507,
     "end_time": "2022-06-02T22:20:17.021604",
     "exception": false,
     "start_time": "2022-06-02T22:20:17.012097",
     "status": "completed"
    },
    "tags": []
   },
   "source": [
    "**Image Model's Weights Ensemble**\n",
    "\n",
    "- 10 Image Model Weights for 10  FOLDS Training.\n",
    "- Take Average. \n",
    "- Use the Averaged Weights."
   ]
  },
  {
   "cell_type": "code",
   "execution_count": 16,
   "id": "7baccb98",
   "metadata": {
    "execution": {
     "iopub.execute_input": "2022-06-02T22:20:17.042331Z",
     "iopub.status.busy": "2022-06-02T22:20:17.041677Z",
     "iopub.status.idle": "2022-06-02T22:23:44.274729Z",
     "shell.execute_reply": "2022-06-02T22:23:44.273774Z"
    },
    "papermill": {
     "duration": 207.246002,
     "end_time": "2022-06-02T22:23:44.277091",
     "exception": false,
     "start_time": "2022-06-02T22:20:17.031089",
     "status": "completed"
    },
    "tags": []
   },
   "outputs": [
    {
     "name": "stdout",
     "output_type": "stream",
     "text": [
      "(1, 1)\n",
      "(1, 1)\n",
      "(1, 1)\n",
      "(1, 1)\n",
      "(1, 1)\n",
      "(1, 1)\n",
      "(1, 1)\n",
      "(1, 1)\n",
      "(1, 1)\n",
      "(1, 1)\n",
      "(1, 1)\n"
     ]
    }
   ],
   "source": [
    "# CV: 0.1880158931016922\n",
    "model_a = get_model(plot_model=False,  print_summary=False,  with_compile=True)\n",
    "model_a.load_weights('../input/pet-test-wg/hyb_eff_attn_wg/feature_models_0.h5', by_name=True)\n",
    "\n",
    "# CV: 0.1864963173866272\n",
    "model_b = get_model(plot_model=False,  print_summary=False,  with_compile=True)\n",
    "model_b.load_weights('../input/pet-test-wg/hyb_eff_attn_wg/feature_models_1.h5', by_name=True)\n",
    "\n",
    "# CV: 0.17805276811122894\n",
    "model_c = get_model(plot_model=False,  print_summary=False,  with_compile=True)\n",
    "model_c.load_weights('../input/pet-test-wg/hyb_eff_attn_wg/feature_models_2.h5', by_name=True)\n",
    "\n",
    "# CV: 0.1805611252784729\n",
    "model_d = get_model(plot_model=False,  print_summary=False,  with_compile=True)\n",
    "model_d.load_weights('../input/pet-test-wg/hyb_eff_attn_wg/feature_models_3.h5', by_name=True)\n",
    "\n",
    "# CV: 0.18030136823654175\n",
    "model_e = get_model(plot_model=False,  print_summary=False,  with_compile=True)\n",
    "model_e.load_weights('../input/pet-test-wg/hyb_eff_attn_wg/feature_models_4.h5', by_name=True)\n",
    "\n",
    "# CV: 0.18239009380340576\n",
    "model_f = get_model(plot_model=False,  print_summary=False,  with_compile=True)\n",
    "model_f.load_weights('../input/pet-test-wg/hyb_eff_attn_wg/feature_models_5.h5', by_name=True)\n",
    "\n",
    "# CV: 0.17896604537963867\n",
    "model_g = get_model(plot_model=False,  print_summary=False,  with_compile=True)\n",
    "model_g.load_weights('../input/pet-test-wg/hyb_eff_attn_wg/feature_models_6.h5', by_name=True)\n",
    "\n",
    "# CV: 0.1817626655101776\n",
    "model_h = get_model(plot_model=False,  print_summary=False,  with_compile=True)\n",
    "model_h.load_weights('../input/pet-test-wg/hyb_eff_attn_wg/feature_models_7.h5', by_name=True)\n",
    "\n",
    "# CV: 0.18311156332492828\n",
    "model_i = get_model(plot_model=False,  print_summary=False,  with_compile=True)\n",
    "model_i.load_weights('../input/pet-test-wg/hyb_eff_attn_wg/feature_models_8.h5', by_name=True)\n",
    "\n",
    "# CV: 0.17778289318084717\n",
    "model_j = get_model(plot_model=False,  print_summary=False,  with_compile=True)\n",
    "model_j.load_weights('../input/pet-test-wg/hyb_eff_attn_wg/feature_models_9.h5', by_name=True)\n",
    "\n",
    "# ALL Hybrid-Swins \n",
    "models = [model_a, model_b, model_c, model_d, model_e, \n",
    "          model_f, model_g, model_h, model_i, model_j]\n",
    "weights = [model.get_weights() for model in models]\n",
    "\n",
    "# Mnaully Averaging \n",
    "new_weights = list()\n",
    "for weights_list_tuple in zip(*weights): \n",
    "    if weights_list_tuple[0].any() != 0:\n",
    "        new_weights.append(\n",
    "            np.array([np.array(w).mean(axis=0) for w in zip(*weights_list_tuple)])\n",
    "        )\n",
    "    else:\n",
    "        new_weights.append(np.array(weights_list_tuple).mean(axis=0))\n",
    "        \n",
    "# Set the New Averaged Weights\n",
    "model = get_model(plot_model=False,  print_summary=False,  with_compile=True)\n",
    "model.set_weights(new_weights)\n",
    "model.save_weights('merged_hybrid_10folds.h5')"
   ]
  },
  {
   "cell_type": "markdown",
   "id": "62f543a4",
   "metadata": {
    "papermill": {
     "duration": 0.013878,
     "end_time": "2022-06-02T22:23:44.302906",
     "exception": false,
     "start_time": "2022-06-02T22:23:44.289028",
     "status": "completed"
    },
    "tags": []
   },
   "source": [
    "**Get Embeddings from Image Model** \n",
    "\n",
    "- In previous section, we took average of the `10` image models.\n",
    "- Next, we will use that **average weight** to get embeddings of the image files.\n",
    "- Next, fit them on `CatBoost` Model.\n"
   ]
  },
  {
   "cell_type": "code",
   "execution_count": 17,
   "id": "a593edad",
   "metadata": {
    "execution": {
     "iopub.execute_input": "2022-06-02T22:23:44.325721Z",
     "iopub.status.busy": "2022-06-02T22:23:44.325427Z",
     "iopub.status.idle": "2022-06-02T22:28:40.146028Z",
     "shell.execute_reply": "2022-06-02T22:28:40.144203Z"
    },
    "papermill": {
     "duration": 295.834666,
     "end_time": "2022-06-02T22:28:40.148501",
     "exception": false,
     "start_time": "2022-06-02T22:23:44.313835",
     "status": "completed"
    },
    "tags": []
   },
   "outputs": [
    {
     "name": "stdout",
     "output_type": "stream",
     "text": [
      "\n",
      "Extracting Features\n",
      "826/826 [==============================] - 267s 289ms/step\n",
      "1/1 [==============================] - 25s 25s/step\n",
      "Train Feature Set Shape: (9912, 2816)\n",
      "Test Feature Set Shape : (8, 2816)\n"
     ]
    }
   ],
   "source": [
    "# Pre model.fit cleanup\n",
    "K.clear_session()\n",
    "gc.collect()\n",
    "\n",
    "# Feature Extraction\n",
    "print('\\nExtracting Features')\n",
    "cb_train_set = create_dataset(train_df, \n",
    "                              batch_size  = BATCH_SIZE, \n",
    "                              is_labelled = True, \n",
    "                              augment     = False,\n",
    "                              repeat      = False, \n",
    "                              shuffle     = False)\n",
    "cb_test_set = create_dataset(test_df, \n",
    "                             batch_size  = BATCH_SIZE,\n",
    "                             is_labelled = False, \n",
    "                             augment     = False, \n",
    "                             repeat      = False, \n",
    "                             shuffle     = False)\n",
    "\n",
    "cb_train_features = model.predict(cb_train_set, verbose = VERBOSE)[1]\n",
    "cb_test_features  = model.predict(cb_test_set, verbose = VERBOSE)[1]\n",
    "\n",
    "# Feature Set Shapes\n",
    "print(f'Train Feature Set Shape: {cb_train_features.shape}')\n",
    "print(f'Test Feature Set Shape : {cb_test_features.shape}')"
   ]
  },
  {
   "cell_type": "markdown",
   "id": "bc22dfaf",
   "metadata": {
    "papermill": {
     "duration": 0.056114,
     "end_time": "2022-06-02T22:28:40.261797",
     "exception": false,
     "start_time": "2022-06-02T22:28:40.205683",
     "status": "completed"
    },
    "tags": []
   },
   "source": [
    "# Next Step : CatBoost Modeling\n",
    "\n",
    "- In previous section, we first average all `10` model weights. \n",
    "- Next, we used that averaged weights and compute image embeddings in the previous cell.\n",
    "- Now, we can use this image embeddings to train `CatBoost` (or `SVR` if we want). \n",
    "- In the next cell, we can set `CAT_BOOST_TRAIN` to `True` to start training, Or,\n",
    "- We can simply reload the trained cat-boost models. "
   ]
  },
  {
   "cell_type": "code",
   "execution_count": 18,
   "id": "043ea5dd",
   "metadata": {
    "execution": {
     "iopub.execute_input": "2022-06-02T22:28:40.380366Z",
     "iopub.status.busy": "2022-06-02T22:28:40.379638Z",
     "iopub.status.idle": "2022-06-02T22:28:47.660988Z",
     "shell.execute_reply": "2022-06-02T22:28:47.659671Z"
    },
    "papermill": {
     "duration": 7.343513,
     "end_time": "2022-06-02T22:28:47.663402",
     "exception": false,
     "start_time": "2022-06-02T22:28:40.319889",
     "status": "completed"
    },
    "tags": []
   },
   "outputs": [
    {
     "name": "stdout",
     "output_type": "stream",
     "text": [
      "\n",
      "----- CatBoost Fold 0 -----\n",
      "Loading Catboost... ../input/pet-test-wg/catboost/catboost_fold_0.pkl\n",
      "CatBoost OOF Score: 17.549278037575505\n",
      "\n",
      "----- CatBoost Fold 1 -----\n",
      "Loading Catboost... ../input/pet-test-wg/catboost/catboost_fold_1.pkl\n",
      "CatBoost OOF Score: 17.464352819036648\n",
      "\n",
      "----- CatBoost Fold 2 -----\n",
      "Loading Catboost... ../input/pet-test-wg/catboost/catboost_fold_2.pkl\n",
      "CatBoost OOF Score: 16.916250267634947\n",
      "\n",
      "----- CatBoost Fold 3 -----\n",
      "Loading Catboost... ../input/pet-test-wg/catboost/catboost_fold_3.pkl\n",
      "CatBoost OOF Score: 17.273986938140162\n",
      "\n",
      "----- CatBoost Fold 4 -----\n",
      "Loading Catboost... ../input/pet-test-wg/catboost/catboost_fold_4.pkl\n",
      "CatBoost OOF Score: 17.013440273259707\n",
      "\n",
      "----- CatBoost Fold 5 -----\n",
      "Loading Catboost... ../input/pet-test-wg/catboost/catboost_fold_5.pkl\n",
      "CatBoost OOF Score: 16.90948551266169\n",
      "\n",
      "----- CatBoost Fold 6 -----\n",
      "Loading Catboost... ../input/pet-test-wg/catboost/catboost_fold_6.pkl\n",
      "CatBoost OOF Score: 16.63326249888976\n",
      "\n",
      "----- CatBoost Fold 7 -----\n",
      "Loading Catboost... ../input/pet-test-wg/catboost/catboost_fold_7.pkl\n",
      "CatBoost OOF Score: 17.3120301425962\n",
      "\n",
      "----- CatBoost Fold 8 -----\n",
      "Loading Catboost... ../input/pet-test-wg/catboost/catboost_fold_8.pkl\n",
      "CatBoost OOF Score: 17.4475186690129\n",
      "\n",
      "----- CatBoost Fold 9 -----\n",
      "Loading Catboost... ../input/pet-test-wg/catboost/catboost_fold_9.pkl\n",
      "CatBoost OOF Score: 16.62557866043023\n",
      "\n",
      "\n",
      "Final OOF RMSE Score for all feature models: 17.114518381923777\n"
     ]
    }
   ],
   "source": [
    "CAT_BOOST_TRAIN = False\n",
    "LOAD_CAT_FROM_PATH = '../input/pet-test-wg/catboost/'\n",
    "\n",
    "# Placeholders\n",
    "oof_score = []\n",
    "\n",
    "kfold = StratifiedKFold(n_splits = FOLDS, shuffle  = True, random_state = SEED)\n",
    "\n",
    "for idx, (train, val) in enumerate(kfold.split(cb_train_features, Y_strat)):\n",
    "    print(f'\\n----- CatBoost Fold {idx} -----')\n",
    "    \n",
    "    train_x, train_y = cb_train_features[train], Y_pawpularity[train]\n",
    "    val_x, val_y     = cb_train_features[val], Y_pawpularity[val]\n",
    "\n",
    "    # Set CatBoost Parameters\n",
    "    cb_params = {'loss_function'   : 'RMSE',\n",
    "                 'eval_metric'     : 'RMSE',\n",
    "                 'iterations'      :  1000,\n",
    "                 'grow_policy'     : 'SymmetricTree',\n",
    "                 'depth'           :   6,\n",
    "                 'l2_leaf_reg'     : 2.0,\n",
    "                 'random_strength' : 1.0,\n",
    "                 'learning_rate'   : 0.05,\n",
    "                 'task_type'       : 'CPU',\n",
    "                 'devices'         : '0',\n",
    "                 'verbose'         :  0,\n",
    "                 'random_state'    : SEED}\n",
    "\n",
    "    name = f\"catboost_fold_{idx}.pkl\"\n",
    "    \n",
    "    if CAT_BOOST_TRAIN:\n",
    "        # Create and Fit CatBoost Model\n",
    "        cb_model = CatBoostRegressor(**cb_params)\n",
    "        cb_model.fit(train_x, train_y, \n",
    "                     eval_set = [(val_x, val_y)],\n",
    "                     early_stopping_rounds = 100, \n",
    "                     verbose = 250)\n",
    "        pickle.dump(cb_model, open(name, \"wb\"))\n",
    "    else:\n",
    "        print('Loading Catboost...',LOAD_CAT_FROM_PATH+name)\n",
    "        cb_model = pickle.load(open(LOAD_CAT_FROM_PATH+name, \"rb\"))\n",
    "\n",
    "    # pred on test \n",
    "    preds_final += np.array([cb_model.predict(cb_test_features)]).T\n",
    "    \n",
    "    # Update OOF Score\n",
    "    y_pred = cb_model.predict(val_x)\n",
    "    oof_score.append(np.sqrt(mean_squared_error(val_y, y_pred)))       \n",
    "\n",
    "    # Cleanup\n",
    "    del cb_model, y_pred\n",
    "    del train_x, train_y\n",
    "    del val_x, val_y\n",
    "    gc.collect()   \n",
    "\n",
    "    # OOF Score for CatBoost run\n",
    "    print(f'CatBoost OOF Score: {oof_score[-1]}')\n",
    "    # Increase to improve randomness on the next feature model run\n",
    "    SEED += 1\n",
    "    \n",
    "# Final OOF score for All Feature Models\n",
    "print(f'\\n\\nFinal OOF RMSE Score for all feature models: {np.mean(oof_score)}')"
   ]
  },
  {
   "cell_type": "markdown",
   "id": "c81fcc79",
   "metadata": {
    "papermill": {
     "duration": 0.056415,
     "end_time": "2022-06-02T22:28:47.778149",
     "exception": false,
     "start_time": "2022-06-02T22:28:47.721734",
     "status": "completed"
    },
    "tags": []
   },
   "source": [
    "# Create Submission Files"
   ]
  },
  {
   "cell_type": "code",
   "execution_count": 19,
   "id": "6d310e3b",
   "metadata": {
    "execution": {
     "iopub.execute_input": "2022-06-02T22:28:47.893979Z",
     "iopub.status.busy": "2022-06-02T22:28:47.893358Z",
     "iopub.status.idle": "2022-06-02T22:28:47.951641Z",
     "shell.execute_reply": "2022-06-02T22:28:47.950796Z"
    },
    "papermill": {
     "duration": 0.118563,
     "end_time": "2022-06-02T22:28:47.953339",
     "exception": false,
     "start_time": "2022-06-02T22:28:47.834776",
     "status": "completed"
    },
    "tags": []
   },
   "outputs": [
    {
     "data": {
      "text/html": [
       "<div>\n",
       "<style scoped>\n",
       "    .dataframe tbody tr th:only-of-type {\n",
       "        vertical-align: middle;\n",
       "    }\n",
       "\n",
       "    .dataframe tbody tr th {\n",
       "        vertical-align: top;\n",
       "    }\n",
       "\n",
       "    .dataframe thead th {\n",
       "        text-align: right;\n",
       "    }\n",
       "</style>\n",
       "<table border=\"1\" class=\"dataframe\">\n",
       "  <thead>\n",
       "    <tr style=\"text-align: right;\">\n",
       "      <th></th>\n",
       "      <th>Id</th>\n",
       "      <th>Pawpularity</th>\n",
       "    </tr>\n",
       "  </thead>\n",
       "  <tbody>\n",
       "    <tr>\n",
       "      <th>0</th>\n",
       "      <td>4128bae22183829d2b5fea10effdb0c3</td>\n",
       "      <td>59.056862</td>\n",
       "    </tr>\n",
       "    <tr>\n",
       "      <th>1</th>\n",
       "      <td>43a2262d7738e3d420d453815151079e</td>\n",
       "      <td>58.581950</td>\n",
       "    </tr>\n",
       "    <tr>\n",
       "      <th>2</th>\n",
       "      <td>4e429cead1848a298432a0acad014c9d</td>\n",
       "      <td>59.162782</td>\n",
       "    </tr>\n",
       "    <tr>\n",
       "      <th>3</th>\n",
       "      <td>80bc3ccafcc51b66303c2c263aa38486</td>\n",
       "      <td>58.997294</td>\n",
       "    </tr>\n",
       "    <tr>\n",
       "      <th>4</th>\n",
       "      <td>8f49844c382931444e68dffbe20228f4</td>\n",
       "      <td>59.478725</td>\n",
       "    </tr>\n",
       "    <tr>\n",
       "      <th>5</th>\n",
       "      <td>b03f7041962238a7c9d6537e22f9b017</td>\n",
       "      <td>58.224813</td>\n",
       "    </tr>\n",
       "    <tr>\n",
       "      <th>6</th>\n",
       "      <td>c978013571258ed6d4637f6e8cc9d6a3</td>\n",
       "      <td>59.357475</td>\n",
       "    </tr>\n",
       "    <tr>\n",
       "      <th>7</th>\n",
       "      <td>e0de453c1bffc20c22b072b34b54e50f</td>\n",
       "      <td>58.749556</td>\n",
       "    </tr>\n",
       "  </tbody>\n",
       "</table>\n",
       "</div>"
      ],
      "text/plain": [
       "                                 Id  Pawpularity\n",
       "0  4128bae22183829d2b5fea10effdb0c3    59.056862\n",
       "1  43a2262d7738e3d420d453815151079e    58.581950\n",
       "2  4e429cead1848a298432a0acad014c9d    59.162782\n",
       "3  80bc3ccafcc51b66303c2c263aa38486    58.997294\n",
       "4  8f49844c382931444e68dffbe20228f4    59.478725\n",
       "5  b03f7041962238a7c9d6537e22f9b017    58.224813\n",
       "6  c978013571258ed6d4637f6e8cc9d6a3    59.357475\n",
       "7  e0de453c1bffc20c22b072b34b54e50f    58.749556"
      ]
     },
     "execution_count": 19,
     "metadata": {},
     "output_type": "execute_result"
    }
   ],
   "source": [
    "preds_final /= FOLDS\n",
    "submission_df = pd.read_csv(f'{DATA_DIR}sample_submission.csv')\n",
    "submission_df['Pawpularity'] = preds_final.ravel()\n",
    "submission_df.to_csv('submission.csv', index = False)\n",
    "\n",
    "# Summary\n",
    "submission_df.head(10)"
   ]
  },
  {
   "cell_type": "markdown",
   "id": "6644e13a",
   "metadata": {
    "papermill": {
     "duration": 0.057519,
     "end_time": "2022-06-02T22:28:48.069286",
     "exception": false,
     "start_time": "2022-06-02T22:28:48.011767",
     "status": "completed"
    },
    "tags": []
   },
   "source": [
    "# Additional Resources\n",
    "1. **How to use it on my own dataset?**\n",
    "    - First, understand the competition task and its data format. And try to relate with yours. \n",
    "    - Second, run this notebook successfully on the competition data. \n",
    "    - Lastly, replace the dataset with yours. \n",
    "2. **More Code Exampels.** \n",
    "    - [Hybrid External MHA Transformer + RAPIS SVR](https://www.kaggle.com/ipythonx/hybrid-external-mha-transformer-rapis-svr) - [Discussion](https://www.kaggle.com/c/petfinder-pawpularity-score/discussion/281917). \n",
    "    - [[TF.Keras]:Learning to Resize Images for ViT Model](https://www.kaggle.com/ipythonx/tf-keras-learning-to-resize-images-for-vit-model) - [Discussion](https://www.kaggle.com/c/petfinder-pawpularity-score/discussion/280438).\n",
    "    - [Discussion: DOLG Models in TensorFlow 2 (Keras) Implementation](https://www.kaggle.com/c/petfinder-pawpularity-score/discussion/281914) - [TF.Keras Code](https://github.com/innat/DOLG-TensorFlow)\n",
    "    - [TF: Hybrid EfficientNet Swin-Transformer : GradCAM](https://www.kaggle.com/ipythonx/tf-hybrid-efficientnet-swin-transformer-gradcam)"
   ]
  }
 ],
 "metadata": {
  "kernelspec": {
   "display_name": "Python 3",
   "language": "python",
   "name": "python3"
  },
  "language_info": {
   "codemirror_mode": {
    "name": "ipython",
    "version": 3
   },
   "file_extension": ".py",
   "mimetype": "text/x-python",
   "name": "python",
   "nbconvert_exporter": "python",
   "pygments_lexer": "ipython3",
   "version": "3.7.12"
  },
  "papermill": {
   "default_parameters": {},
   "duration": 556.597776,
   "end_time": "2022-06-02T22:28:51.532109",
   "environment_variables": {},
   "exception": null,
   "input_path": "__notebook__.ipynb",
   "output_path": "__notebook__.ipynb",
   "parameters": {},
   "start_time": "2022-06-02T22:19:34.934333",
   "version": "2.3.4"
  }
 },
 "nbformat": 4,
 "nbformat_minor": 5
}
